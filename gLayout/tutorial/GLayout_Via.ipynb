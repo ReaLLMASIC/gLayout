{
 "cells": [
  {
   "cell_type": "markdown",
   "id": "683bfe84-5467-4378-8bed-7a09780cfa9a",
   "metadata": {},
   "source": [
    "# GLayout Simple Via Creation Tutorial\n",
    "\n",
    "```\n",
    "OpenFASOC Team, June 2025\n",
    "SPDX-License-Identifier: Apache-2.0\n",
    "```"
   ]
  },
  {
   "cell_type": "markdown",
   "id": "159e347f-fe52-4e65-a5b9-b59f546b3fe9",
   "metadata": {},
   "source": [
    "\n",
    "## Introduction\n",
    "Welcome!\n",
    "This notebook serves as an introduction to the GDSFactory-based layout automation tool **GLayout** and an example producing a VIA to explain grules and glayers, as a part of [OpenFASoC](https://github.com/idea-fasoc/OpenFASOC).  \n",
    "\n",
    "## Tool requirements\n",
    "### All the requirements are contained in OSIC-IIC-TOOLS\n",
    "**Python Dependencies**\n",
    "* [`gdsfactory`](https://github.com/gdsfactory/gdsfactory): Provides the backend for GDS manipulation.\n",
    "* [`sky130`](https://github.com/gdsfactory/skywater130): The Skywater 130nm PDK Python package for GDSFactory to use in this demo.\n",
    "* [`gf180`](https://github.com/gdsfactory/gf180): The GF 180nm PDK Python package for GDSFactory to use in this demo.\n",
    "* [`gdstk`](https://heitzmann.github.io/gdstk/): (installed as a part of gdsfactory) Used for converting GDS files into SVG images for viewing.\n",
    "* [`svgutils`](https://svgutils.readthedocs.io/en/latest/): To scale the SVG image.\n",
    "\n",
    "**System Dependencies**\n",
    "* [`klayout`](https://klayout.de/): For DRC (Design Rule Checking).\n",
    "\n"
   ]
  },
  {
   "cell_type": "markdown",
   "id": "d5a4b7ca-0e07-4efe-b117-f488e6249dc9",
   "metadata": {},
   "source": [
    "#### 1.1. Importing Libraries and Utility Functions"
   ]
  },
  {
   "cell_type": "code",
   "execution_count": 1,
   "id": "e9d4a032",
   "metadata": {},
   "outputs": [],
   "source": [
    "import gdstk\n",
    "import svgutils.transform as sg\n",
    "import IPython.display\n",
    "from IPython.display import clear_output\n",
    "import ipywidgets as widgets\n",
    "\n",
    "# Redirect all outputs here\n",
    "hide = widgets.Output()\n",
    "\n",
    "def display_gds(gds_file, scale = 3):\n",
    "  # Generate an SVG image\n",
    "  top_level_cell = gdstk.read_gds(gds_file).top_level()[0]\n",
    "  top_level_cell.write_svg('out.svg')\n",
    "  # Scale the image for displaying\n",
    "  fig = sg.fromfile('out.svg')\n",
    "  fig.set_size((str(float(fig.width) * scale), str(float(fig.height) * scale)))\n",
    "  fig.save('out.svg')\n",
    "\n",
    "  # Display the image\n",
    "  IPython.display.display(IPython.display.SVG('out.svg'))\n",
    "\n",
    "def display_component(component, scale = 3):\n",
    "  # Save to a GDS file\n",
    "  with hide:\n",
    "    component.write_gds(\"out.gds\")\n",
    "  display_gds('out.gds', scale)"
   ]
  },
  {
   "cell_type": "markdown",
   "id": "d594214f-8cb4-4474-a768-fcbd07dfbeff",
   "metadata": {},
   "source": [
    "**1. Import Required Modules**\n",
    "\n",
    "The via function will use several imports:\n",
    "\n",
    "* a pdk from glayout: PDK for GF180/SKY130 (180-nanometer technology node) provided by the glayout package. The PDK contains technology-specific information including rules and layers.\n",
    "\n",
    "* Component from gdsfactory: This is a class representing a layout component, which includes polygons, paths, etc.\n",
    "\n",
    "* rectangle from gdsfactory.components: This function creates a rectangle polygon."
   ]
  },
  {
   "cell_type": "code",
   "execution_count": 2,
   "id": "d94cd3b8",
   "metadata": {},
   "outputs": [],
   "source": [
    "from glayout import sky130, gf180\n",
    "from gdsfactory import Component\n",
    "from gdsfactory.components import rectangle"
   ]
  },
  {
   "cell_type": "markdown",
   "id": "9b95645f-fb47-47f1-8ff6-d6b2344ae73c",
   "metadata": {},
   "source": [
    "**2. Define the Via Function**\n",
    "\n",
    "The function create_via which takes a single argument which is the PDK. Inside the function, the following steps are executed:\n",
    "\n",
    "* Via Dimensions: Using the get_grule method of the PDK object, the width of the via is retrieved from the technology's design rules. This rule specifies the minimum size that the via can be. This dimension is set as both the length and width for a via.\n",
    "\n",
    "* Metal Dimensions: The dimensions of the metal layers above and below the via are determined. These dimensions must accommodate the via and any required enclosure space as mandated by the PDK. Enclosure space refers to the required minimum spacing between the edge of the via and the edge of the surrounding metal layer.\n",
    "\n",
    "* Layer Retrieval: The get_glayer method retrieves the specific layer numbers or names from the PDK. These are then used to assign the correct graphical layers to the shapes that will be generated.\n",
    "\n",
    "* Shape Creation and Placement: An empty Component instance named top_level is created, representing the top component in which all shapes will be placed. Using the insertion operator (<<), rectangles representing the metal layers and via are added to the top_level component with their specified sizes and layers.\n",
    "\n",
    "* Return Value: The top_level component, now containing the layout shapes for the metals and via, is the return value of the function. This component can be written out as a GDSII file."
   ]
  },
  {
   "cell_type": "code",
   "execution_count": 3,
   "id": "0a2b53c2",
   "metadata": {},
   "outputs": [],
   "source": [
    "def create_via(pdk):\n",
    "  # Define the via dimensions and rules\n",
    "  via_dimension = pdk.get_grule('via1')['width']\n",
    "  metal1_dimension = via_dimension + 2 * pdk.get_grule('via1','met1')['min_enclosure']\n",
    "  metal2_dimension = via_dimension + 2 * pdk.get_grule('via1','met2')['min_enclosure']\n",
    "\n",
    "  # Get the layers for via and metals\n",
    "  via_layer = pdk.get_glayer('via1')\n",
    "  metal1_layer = pdk.get_glayer('met1')\n",
    "  metal2_layer = pdk.get_glayer('met2')\n",
    "\n",
    "  # Create the component and add the layers\n",
    "  top_level = Component(name='via_example')\n",
    "  top_level << rectangle(size=(via_dimension, via_dimension), layer=via_layer)\n",
    "  top_level << rectangle(size=(metal1_dimension, metal1_dimension), layer=metal1_layer)\n",
    "  top_level << rectangle(size=(metal2_dimension, metal2_dimension), layer=metal2_layer)\n",
    "\n",
    "  return top_level"
   ]
  },
  {
   "cell_type": "markdown",
   "id": "7b93111e-2cb6-4e46-bde2-8804e822ae39",
   "metadata": {},
   "source": [
    "**4. Run the Via Function and Generate Layout**"
   ]
  },
  {
   "cell_type": "code",
   "execution_count": 4,
   "id": "7d9f0c9b",
   "metadata": {},
   "outputs": [
    {
     "name": "stderr",
     "output_type": "stream",
     "text": [
      "\u001b[32m2025-06-26 18:24:59.225\u001b[0m | \u001b[33m\u001b[1mWARNING \u001b[0m | \u001b[36mgdsfactory.pdk\u001b[0m:\u001b[36mget_active_pdk\u001b[0m:\u001b[36m733\u001b[0m - \u001b[33m\u001b[1mNo active PDK. Activating generic PDK.\n",
      "\u001b[0m\n",
      "\u001b[32m2025-06-26 18:24:59.443\u001b[0m | \u001b[1mINFO    \u001b[0m | \u001b[36mgdsfactory.technology.layer_views\u001b[0m:\u001b[36m__init__\u001b[0m:\u001b[36m790\u001b[0m - \u001b[1mImporting LayerViews from YAML file: '/headless/conda-env/miniconda3/envs/GLdev/lib/python3.10/site-packages/gdsfactory/generic_tech/layer_views.yaml'.\u001b[0m\n",
      "\u001b[32m2025-06-26 18:24:59.444\u001b[0m | \u001b[1mINFO    \u001b[0m | \u001b[36mgdsfactory.pdk\u001b[0m:\u001b[36mactivate\u001b[0m:\u001b[36m337\u001b[0m - \u001b[1m'generic' PDK is now active\u001b[0m\n",
      "\u001b[32m2025-06-26 18:24:59.456\u001b[0m | \u001b[1mINFO    \u001b[0m | \u001b[36mgdsfactory.component\u001b[0m:\u001b[36m_write_library\u001b[0m:\u001b[36m1851\u001b[0m - \u001b[1mWrote to 'via_example_gf180.gds'\u001b[0m\n"
     ]
    },
    {
     "data": {
      "text/plain": [
       "PosixPath('via_example_gf180.gds')"
      ]
     },
     "execution_count": 4,
     "metadata": {},
     "output_type": "execute_result"
    }
   ],
   "source": [
    "create_via(pdk=gf180).write_gds(\"via_example_gf180.gds\")"
   ]
  },
  {
   "cell_type": "markdown",
   "id": "171e1673-d55a-4314-a196-64a1cb2f8022",
   "metadata": {},
   "source": [
    "**5. View the Generated Layout**\n",
    "- Open KLayout and load the generated GDS file to view your layout.\n",
    "- Or view in notebook with the following code block."
   ]
  },
  {
   "cell_type": "code",
   "execution_count": 5,
   "id": "095bd57d",
   "metadata": {},
   "outputs": [
    {
     "data": {
      "image/svg+xml": [
       "<svg xmlns=\"http://www.w3.org/2000/svg\" xmlns:xlink=\"http://www.w3.org/1999/xlink\" width=\"110.0\" height=\"110.0\" viewBox=\"-0.25 -5.25 5.5 5.5\">\n",
       "<defs>\n",
       "<style type=\"text/css\">\n",
       ".l36d0 {stroke: #E25822; fill: #E25822; fill-opacity: 0.5;}\n",
       ".l35d0 {stroke: #654522; fill: #654522; fill-opacity: 0.5;}\n",
       ".l34d0 {stroke: #8DB600; fill: #8DB600; fill-opacity: 0.5;}\n",
       "</style>\n",
       "<g id=\"rectangle_2d3cd8bd\">\n",
       "<use transform=\"translate(2.5 2.5)\" xlink:href=\"#compass_2d3cd8bd\"/>\n",
       "</g>\n",
       "<g id=\"rectangle_dbbc7742\">\n",
       "<use transform=\"translate(2.5 2.5)\" xlink:href=\"#compass_dbbc7742\"/>\n",
       "</g>\n",
       "<g id=\"compass_0e2264c9\">\n",
       "<polygon id=\"0x35d9a570\" class=\"l35d0\" points=\"-1.3,-1.3 -1.3,1.3 1.3,1.3 1.3,-1.3\"/>\n",
       "</g>\n",
       "<g id=\"compass_dbbc7742\">\n",
       "<polygon id=\"0x35ed7100\" class=\"l34d0\" points=\"-2.5,-2.5 -2.5,2.5 2.5,2.5 2.5,-2.5\"/>\n",
       "</g>\n",
       "<g id=\"rectangle_0e2264c9\">\n",
       "<use transform=\"translate(1.3 1.3)\" xlink:href=\"#compass_0e2264c9\"/>\n",
       "</g>\n",
       "<g id=\"compass_2d3cd8bd\">\n",
       "<polygon id=\"0x35ed73d0\" class=\"l36d0\" points=\"-2.5,-2.5 -2.5,2.5 2.5,2.5 2.5,-2.5\"/>\n",
       "</g>\n",
       "</defs>\n",
       "<rect x=\"-0.25\" y=\"-5.25\" width=\"5.5\" height=\"5.5\" fill=\"#222222\" stroke=\"none\"/>\n",
       "<g id=\"via_example\" transform=\"scale(1 -1)\">\n",
       "<use transform=\"translate(0 0)\" xlink:href=\"#rectangle_0e2264c9\"/>\n",
       "<use transform=\"translate(0 0)\" xlink:href=\"#rectangle_dbbc7742\"/>\n",
       "<use transform=\"translate(0 0)\" xlink:href=\"#rectangle_2d3cd8bd\"/>\n",
       "</g>\n",
       "</svg>"
      ],
      "text/plain": [
       "<IPython.core.display.SVG object>"
      ]
     },
     "metadata": {},
     "output_type": "display_data"
    }
   ],
   "source": [
    "display_gds('via_example_gf180.gds',scale=20)"
   ]
  },
  {
   "cell_type": "markdown",
   "id": "421c8cbd-8593-43cd-9604-45e08de81768",
   "metadata": {},
   "source": [
    "By concluding these steps, you will have downloaded Glayout, installed the necessary dependencies, and completed the construction of a simple via using Glayout."
   ]
  }
 ],
 "metadata": {
  "jupytext": {
   "cell_metadata_filter": "-all",
   "encoding": "# coding: utf-8",
   "executable": "/usr/bin/env python",
   "main_language": "python",
   "notebook_metadata_filter": "-all"
  },
  "kernelspec": {
   "display_name": "Python 3 (ipykernel)",
   "language": "python",
   "name": "python3"
  },
  "language_info": {
   "codemirror_mode": {
    "name": "ipython",
    "version": 3
   },
   "file_extension": ".py",
   "mimetype": "text/x-python",
   "name": "python",
   "nbconvert_exporter": "python",
   "pygments_lexer": "ipython3",
   "version": "3.10.18"
  }
 },
 "nbformat": 4,
 "nbformat_minor": 5
}
