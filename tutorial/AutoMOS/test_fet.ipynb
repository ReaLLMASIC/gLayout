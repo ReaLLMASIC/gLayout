{
 "cells": [
  {
   "cell_type": "code",
   "execution_count": 1,
   "id": "fdd448d4-75b7-4d1c-80a0-098ca335956f",
   "metadata": {},
   "outputs": [],
   "source": [
    "%load_ext autoreload\n",
    "%autoreload 2"
   ]
  },
  {
   "cell_type": "code",
   "execution_count": 2,
   "id": "a0d25196-a3b8-444d-a259-d1a5d743fc0e",
   "metadata": {},
   "outputs": [
    {
     "data": {
      "text/html": [
       "<pre style=\"white-space:pre;overflow-x:auto;line-height:normal;font-family:Menlo,'DejaVu Sans Mono',consolas,'Courier New',monospace\"></pre>\n"
      ],
      "text/plain": []
     },
     "metadata": {},
     "output_type": "display_data"
    },
    {
     "data": {
      "text/html": [
       "<pre style=\"white-space:pre;overflow-x:auto;line-height:normal;font-family:Menlo,'DejaVu Sans Mono',consolas,'Courier New',monospace\"></pre>\n"
      ],
      "text/plain": []
     },
     "metadata": {},
     "output_type": "display_data"
    }
   ],
   "source": [
    "from glayout import MappedPDK, sky130 , gf180"
   ]
  },
  {
   "cell_type": "code",
   "execution_count": 3,
   "id": "68ca5a32-61cf-4e5a-976c-5df72d608575",
   "metadata": {},
   "outputs": [],
   "source": [
    "from glayout.primitives.fet import nmos, pmos, multiplier, __mult_array_macro"
   ]
  },
  {
   "cell_type": "code",
   "execution_count": 4,
   "id": "03a12ded-d9de-4f65-8f47-2c5908627dcd",
   "metadata": {},
   "outputs": [
    {
     "name": "stderr",
     "output_type": "stream",
     "text": [
      "\u001b[32m2025-09-09 06:31:28.342\u001b[0m | \u001b[1mINFO    \u001b[0m | \u001b[36mgdsfactory.pdk\u001b[0m:\u001b[36mactivate\u001b[0m:\u001b[36m337\u001b[0m - \u001b[1m'gf180' PDK is now active\u001b[0m\n"
     ]
    }
   ],
   "source": [
    "pdk=gf180\n",
    "pdk.activate()"
   ]
  },
  {
   "cell_type": "code",
   "execution_count": 5,
   "id": "4b469912-7e6b-4a3a-99fa-10add936f071",
   "metadata": {},
   "outputs": [],
   "source": [
    "single_multiplier=multiplier(pdk,\"n+s/d\",fingers=2,dummy_separation_rmult=2)"
   ]
  },
  {
   "cell_type": "code",
   "execution_count": 6,
   "id": "9bbbe436-c307-46af-9334-2095bce7fce2",
   "metadata": {},
   "outputs": [
    {
     "name": "stderr",
     "output_type": "stream",
     "text": [
      "\u001b[32m2025-09-08 07:22:58.108\u001b[0m | \u001b[1mINFO    \u001b[0m | \u001b[36mgdsfactory.klive\u001b[0m:\u001b[36mshow\u001b[0m:\u001b[36m55\u001b[0m - \u001b[1mMessage from klive: {\"version\": \"0.3.3\", \"klayout_version\": \"0.30.2\", \"type\": \"reload\", \"file\": \"/tmp/gdsfactory/multiplier_84ed52fc.gds\"}\u001b[0m\n"
     ]
    }
   ],
   "source": [
    "single_multiplier.show()"
   ]
  },
  {
   "cell_type": "code",
   "execution_count": 7,
   "id": "5bdeedb2-d61f-45b3-a9c1-b50859271bae",
   "metadata": {},
   "outputs": [],
   "source": [
    "array_multipliers=__mult_array_macro(pdk,\"n+s/d\",fingers=2,multipliers=3,dummy=(True,False))"
   ]
  },
  {
   "cell_type": "code",
   "execution_count": 8,
   "id": "e1b3bb7b-37f0-4737-b178-cbcfdde96f78",
   "metadata": {},
   "outputs": [
    {
     "name": "stderr",
     "output_type": "stream",
     "text": [
      "/headless/conda-env/miniconda3/envs/GLdev/lib/python3.10/site-packages/gdsfactory/show.py:40: UserWarning: Unnamed cells, 1 in 'Unnamed_6482c14b$1'\n",
      "  gdspath = component.write_gds(\n",
      "\u001b[32m2025-09-08 07:23:11.857\u001b[0m | \u001b[1mINFO    \u001b[0m | \u001b[36mgdsfactory.klive\u001b[0m:\u001b[36mshow\u001b[0m:\u001b[36m55\u001b[0m - \u001b[1mMessage from klive: {\"version\": \"0.3.3\", \"klayout_version\": \"0.30.2\", \"type\": \"open\", \"file\": \"/tmp/gdsfactory/Unnamed_6482c14b$1.gds\"}\u001b[0m\n"
     ]
    }
   ],
   "source": [
    "array_multipliers.show()"
   ]
  },
  {
   "cell_type": "code",
   "execution_count": 5,
   "id": "276dfb92-66c0-402e-a4c1-ce69e44dc5af",
   "metadata": {},
   "outputs": [],
   "source": [
    "array_multipliers=__mult_array_macro(pdk,\"n+s/d\",fingers=2,multipliers=3,dummy=(True,False), \n",
    "                                     pattern=[\"A\", \"B\", \"C\"], is_gate_shared=True, is_src_shared=True)"
   ]
  },
  {
   "cell_type": "code",
   "execution_count": 6,
   "id": "ab9a3c46-5115-4640-bf9d-dc14cdf77d47",
   "metadata": {},
   "outputs": [
    {
     "name": "stderr",
     "output_type": "stream",
     "text": [
      "/headless/conda-env/miniconda3/envs/GLdev/lib/python3.10/site-packages/gdsfactory/show.py:40: UserWarning: Unnamed cells, 1 in 'Unnamed_3126d5c4$1'\n",
      "  gdspath = component.write_gds(\n",
      "\u001b[32m2025-09-09 06:31:56.733\u001b[0m | \u001b[1mINFO    \u001b[0m | \u001b[36mgdsfactory.klive\u001b[0m:\u001b[36mshow\u001b[0m:\u001b[36m55\u001b[0m - \u001b[1mMessage from klive: {\"version\": \"0.3.3\", \"klayout_version\": \"0.30.2\", \"type\": \"open\", \"file\": \"/tmp/gdsfactory/Unnamed_3126d5c4$1.gds\"}\u001b[0m\n"
     ]
    }
   ],
   "source": [
    "array_multipliers.show()"
   ]
  },
  {
   "cell_type": "code",
   "execution_count": 7,
   "id": "c29b2e88-d18e-485c-81eb-aa2484d2be1a",
   "metadata": {},
   "outputs": [],
   "source": [
    "from glayout.primitives.fet import multiplier, __mult_array_macro, __mult_2dim_array_macro"
   ]
  },
  {
   "cell_type": "code",
   "execution_count": 8,
   "id": "adc8cc94-3474-4d35-947b-1357c9cd4c43",
   "metadata": {},
   "outputs": [
    {
     "name": "stdout",
     "output_type": "stream",
     "text": [
      "{'A': [0, 1, 2], 'C': [1], 'B': [0, 2]}\n",
      "col_0_gate_S\n",
      "col_0_A_drain_S\n",
      "1.1\n",
      "0 A\n",
      "col_0_A_drain_S\n",
      "col_1_A_drain_S\n",
      "col_1_A_drain_S\n",
      "col_2_A_drain_S\n",
      "1 C\n",
      "2 B\n",
      "col_0_B_drain_S\n",
      "col_2_B_drain_S\n"
     ]
    }
   ],
   "source": [
    "array_multipliers_2dim=__mult_2dim_array_macro(pdk,\"n+s/d\",fingers=2,multipliers=(3,3), \n",
    "                                     pattern=[[\"A\",\"C\",\"B\"],[\"B\",\"A\",\"A\"],[\"A\",\"C\",\"B\"]],is_src_shared=True,\n",
    "                                              is_gate_shared=True)"
   ]
  },
  {
   "cell_type": "code",
   "execution_count": 9,
   "id": "00a31e75-8d66-4a7b-97f9-5517a47143ce",
   "metadata": {},
   "outputs": [
    {
     "name": "stderr",
     "output_type": "stream",
     "text": [
      "/headless/conda-env/miniconda3/envs/GLdev/lib/python3.10/site-packages/gdsfactory/show.py:40: UserWarning: Unnamed cells, 3 in 'temp_multiplier_array$2'\n",
      "  gdspath = component.write_gds(\n",
      "\u001b[32m2025-09-09 06:32:24.757\u001b[0m | \u001b[1mINFO    \u001b[0m | \u001b[36mgdsfactory.klive\u001b[0m:\u001b[36mshow\u001b[0m:\u001b[36m55\u001b[0m - \u001b[1mMessage from klive: {\"version\": \"0.3.3\", \"klayout_version\": \"0.30.2\", \"type\": \"open\", \"file\": \"/tmp/gdsfactory/temp_multiplier_array$2.gds\"}\u001b[0m\n"
     ]
    }
   ],
   "source": [
    "array_multipliers_2dim.show()"
   ]
  },
  {
   "cell_type": "code",
   "execution_count": 10,
   "id": "28608293-b5ad-4598-abb1-4dc07749672a",
   "metadata": {},
   "outputs": [],
   "source": [
    "from glayout.primitives.fet import nmos, pmos"
   ]
  },
  {
   "cell_type": "code",
   "execution_count": 11,
   "id": "3706c1ef-3dc7-4884-9cf1-6c7780f1f4f8",
   "metadata": {},
   "outputs": [
    {
     "name": "stdout",
     "output_type": "stream",
     "text": [
      "{'A': [0, 1, 2], 'C': [1], 'B': [0, 2]}\n",
      "col_0_gate_S\n",
      "col_0_A_drain_S\n",
      "1.1\n",
      "0 A\n",
      "col_0_A_drain_N\n",
      "col_1_A_drain_N\n",
      "col_1_A_drain_N\n",
      "col_2_A_drain_N\n",
      "1 C\n",
      "2 B\n",
      "col_0_B_drain_N\n",
      "col_2_B_drain_N\n"
     ]
    }
   ],
   "source": [
    "nmos_c= nmos(pdk,fingers=2,multipliers=(3,3),with_dummy=True,\n",
    "             pattern=[[\"A\",\"C\",\"B\"],[\"B\",\"A\",\"A\"],[\"A\",\"C\",\"B\"]],is_src_shared=True,\n",
    "                                              is_gate_shared=True)"
   ]
  },
  {
   "cell_type": "code",
   "execution_count": 12,
   "id": "0ca4d6ba-c208-47bb-a65f-0546184e52de",
   "metadata": {},
   "outputs": [
    {
     "name": "stderr",
     "output_type": "stream",
     "text": [
      "/headless/conda-env/miniconda3/envs/GLdev/lib/python3.10/site-packages/gdsfactory/show.py:40: UserWarning: Unnamed cells, 1 in 'Unnamed_9668c76a'\n",
      "  gdspath = component.write_gds(\n",
      "\u001b[32m2025-09-09 06:32:53.987\u001b[0m | \u001b[1mINFO    \u001b[0m | \u001b[36mgdsfactory.klive\u001b[0m:\u001b[36mshow\u001b[0m:\u001b[36m55\u001b[0m - \u001b[1mMessage from klive: {\"version\": \"0.3.3\", \"klayout_version\": \"0.30.2\", \"type\": \"open\", \"file\": \"/tmp/gdsfactory/Unnamed_9668c76a.gds\"}\u001b[0m\n"
     ]
    }
   ],
   "source": [
    "nmos_c.show()"
   ]
  },
  {
   "cell_type": "code",
   "execution_count": 13,
   "id": "f63d0845-5f4b-4194-9786-842514564dce",
   "metadata": {},
   "outputs": [
    {
     "name": "stdout",
     "output_type": "stream",
     "text": [
      "{'A': [0, 1, 2], 'C': [1], 'B': [0, 2]}\n",
      "col_0_gate_S\n",
      "col_0_A_drain_S\n",
      "1.1\n",
      "0 A\n",
      "col_0_A_drain_S\n",
      "col_1_A_drain_S\n",
      "col_1_A_drain_S\n",
      "col_2_A_drain_S\n",
      "1 C\n",
      "2 B\n",
      "col_0_B_drain_S\n",
      "col_2_B_drain_S\n"
     ]
    }
   ],
   "source": [
    "pmos_c= pmos(pdk,fingers=2,multipliers=(3,3),with_dummy=True,\n",
    "             pattern=[[\"A\",\"C\",\"B\"],[\"B\",\"A\",\"A\"],[\"A\",\"C\",\"B\"]],is_src_shared=True,\n",
    "                                              is_gate_shared=True)"
   ]
  },
  {
   "cell_type": "code",
   "execution_count": 14,
   "id": "b596abfc-4f94-4d06-b9f3-161511bcc4df",
   "metadata": {},
   "outputs": [
    {
     "name": "stderr",
     "output_type": "stream",
     "text": [
      "/headless/conda-env/miniconda3/envs/GLdev/lib/python3.10/site-packages/gdsfactory/show.py:40: UserWarning: Unnamed cells, 1 in 'Unnamed_b364fed1'\n",
      "  gdspath = component.write_gds(\n",
      "\u001b[32m2025-09-09 06:33:10.622\u001b[0m | \u001b[1mINFO    \u001b[0m | \u001b[36mgdsfactory.klive\u001b[0m:\u001b[36mshow\u001b[0m:\u001b[36m55\u001b[0m - \u001b[1mMessage from klive: {\"version\": \"0.3.3\", \"klayout_version\": \"0.30.2\", \"type\": \"open\", \"file\": \"/tmp/gdsfactory/Unnamed_b364fed1.gds\"}\u001b[0m\n"
     ]
    }
   ],
   "source": [
    "pmos_c.show()"
   ]
  },
  {
   "cell_type": "code",
   "execution_count": 9,
   "id": "e26c80cb-6857-40d0-a4a1-5d2ef19a4f6f",
   "metadata": {},
   "outputs": [
    {
     "data": {
      "text/plain": [
       "PosixPath('/foss/pdks/gf180mcuD/libs.tech/magic/gf180mcuD.magicrc')"
      ]
     },
     "execution_count": 9,
     "metadata": {},
     "output_type": "execute_result"
    }
   ],
   "source": [
    "from pathlib import Path\n",
    "import os\n",
    "import subprocess\n",
    "import tempfile\n",
    "magicrc_file = Path(os.environ['PDKPATH']) / \"libs.tech\" / \"magic\" / f\"{os.environ['PDK']}.magicrc\"\n",
    "magicrc_file"
   ]
  },
  {
   "cell_type": "code",
   "execution_count": 10,
   "id": "f9a0478d-23ba-4bc6-bb4c-f8a7f2452820",
   "metadata": {},
   "outputs": [],
   "source": [
    "def extract_pex(design, path_to_dir):\n",
    "    design_name=design.name\n",
    "    if not path_to_dir.exists():\n",
    "        path_to_dir.mkdir(parents=True, exist_ok=False)\n",
    "    \n",
    "    pex_path = path_to_dir / f\"{design_name}_pex.spice\"\n",
    "    gds_path = path_to_dir / f\"{design_name}.gds\"\n",
    "    \n",
    "    design.write_gds(str(gds_path))\n",
    "        \n",
    "    magic_script_content = f\"\"\"\n",
    "    drc off            \n",
    "    gds flatglob *\\\\$\\\\$*\n",
    "    gds read {gds_path}\n",
    "    \n",
    "    flatten {design_name}\n",
    "    load {design_name}\n",
    "    select top cell\n",
    "    extract do local\n",
    "    extract all\n",
    "    ext2sim labels on\n",
    "    ext2sim\n",
    "    extresist tolerance 10\n",
    "    extresist\n",
    "    ext2spice lvs\n",
    "    ext2spice cthresh 0\n",
    "    ext2spice extresist on\n",
    "    ext2spice -o {str(pex_path)}\n",
    "    exit\n",
    "    \"\"\"\n",
    "    \n",
    "    with tempfile.NamedTemporaryFile(mode='w', delete=False) as magic_script_file:\n",
    "        magic_script_file.write(magic_script_content)\n",
    "        magic_script_path = magic_script_file.name\n",
    "        \n",
    "    magic_cmd = f\"bash -c 'magic -rcfile {magicrc_file} -noconsole -dnull < {magic_script_path}'\",\n",
    "    magic_subproc = subprocess.run(\n",
    "        magic_cmd, \n",
    "        shell=True,\n",
    "        check=True,\n",
    "        capture_output=True\n",
    "    )\n",
    "    \n",
    "    magic_subproc_code = magic_subproc.returncode\n",
    "    magic_subproc_out = magic_subproc.stdout.decode('utf-8')\n",
    "    print(magic_subproc_out)\n"
   ]
  },
  {
   "cell_type": "code",
   "execution_count": 11,
   "id": "8af5d9f3-4bcd-46f8-b02b-20f0ed932cbb",
   "metadata": {},
   "outputs": [
    {
     "name": "stderr",
     "output_type": "stream",
     "text": [
      "/tmp/ipykernel_465/2536090899.py:9: UserWarning: Unnamed cells, 1 in 'Unnamed_848148dc'\n",
      "  design.write_gds(str(gds_path))\n",
      "\u001b[32m2025-09-02 06:57:41.946\u001b[0m | \u001b[1mINFO    \u001b[0m | \u001b[36mgdsfactory.component\u001b[0m:\u001b[36m_write_library\u001b[0m:\u001b[36m1851\u001b[0m - \u001b[1mWrote to '/foss/designs/gLayout/tutorial/ext/Unnamed_848148dc/Unnamed_848148dc.gds'\u001b[0m\n"
     ]
    },
    {
     "name": "stdout",
     "output_type": "stream",
     "text": [
      "\n",
      "Magic 8.3 revision 528 - Compiled on Wed Jun 18 09:45:25 PM CEST 2025.\n",
      "Starting magic under Tcl interpreter\n",
      "Using the terminal as the console.\n",
      "WARNING: RLIMIT_NOFILE is above 1024 and Tcl_Version<9 this may cause runtime issues [rlim_cur=4096]\n",
      "Using NULL graphics device.\n",
      "Processing system .magicrc file\n",
      "Sourcing design .magicrc for technology gf180mcuD ...\n",
      "10 Magic internal units = 1 Lambda\n",
      "Input style import: scaleFactor=10, multiplier=2\n",
      "The following types are not handled by extraction and will be treated as non-electrical types:\n",
      "    obsactive mvobsactive filldiff fillpoly m1hole obsm1 fillm1 obsv1 m2hole obsm2 fillm2 obsv2 m3hole obsm3 fillm3 m4hole obsm4 fillm4 m5hole obsm5 fillm5 glass fillblock lvstext obscomment \n",
      "Scaled tech values by 10 / 1 to match internal grid scaling\n",
      "Loading gf180mcuD Device Generator Menu ...\n",
      "Using technology \"gf180mcuD\", version 1.0.525-0-gf2e289d\n",
      "Warning: Calma reading is not undoable!  I hope that's OK.\n",
      "Library written using GDS-II Release 6.0\n",
      "Library name: library\n",
      "Reading \"Unnamed_848148dc\".\n",
      "Extracting Unnamed_848148dc into Unnamed_848148dc.ext:\n",
      "Unnamed_848148dc: 3 warnings\n",
      "exttosim finished.\n",
      "Adding  a_162_n1619#; Tnew = 0.07ns, Told = 0.00ns\n",
      "Adding  a_n44_n1619#; Tnew = 0.07ns, Told = 0.00ns\n",
      "Total Nets: 8\n",
      "Nets extracted: 3 (0.375000)\n",
      "Nets output: 2 (0.250000)\n",
      "exttospice finished.\n",
      "\n"
     ]
    }
   ],
   "source": [
    "path_to_dir = Path(\"/foss/designs/gLayout/tutorial\").resolve() / \"ext\" / nmos_c.name\n",
    "extract_pex(nmos_c, path_to_dir)"
   ]
  },
  {
   "cell_type": "code",
   "execution_count": null,
   "id": "3927146c-31be-4740-892f-66fca3c520ef",
   "metadata": {},
   "outputs": [],
   "source": []
  }
 ],
 "metadata": {
  "kernelspec": {
   "display_name": "GLdev",
   "language": "python",
   "name": "gldev"
  },
  "language_info": {
   "codemirror_mode": {
    "name": "ipython",
    "version": 3
   },
   "file_extension": ".py",
   "mimetype": "text/x-python",
   "name": "python",
   "nbconvert_exporter": "python",
   "pygments_lexer": "ipython3",
   "version": "3.10.18"
  }
 },
 "nbformat": 4,
 "nbformat_minor": 5
}
