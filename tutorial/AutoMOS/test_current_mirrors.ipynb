{
 "cells": [
  {
   "cell_type": "code",
   "execution_count": 1,
   "id": "b8724d51-f3b1-4989-afc4-db50a2b12304",
   "metadata": {},
   "outputs": [],
   "source": [
    "%load_ext autoreload\n",
    "%autoreload 2"
   ]
  },
  {
   "cell_type": "code",
   "execution_count": 2,
   "id": "42da4f9f-cf0c-43d9-8988-71691fcbe17a",
   "metadata": {},
   "outputs": [
    {
     "data": {
      "text/html": [
       "<pre style=\"white-space:pre;overflow-x:auto;line-height:normal;font-family:Menlo,'DejaVu Sans Mono',consolas,'Courier New',monospace\"></pre>\n"
      ],
      "text/plain": []
     },
     "metadata": {},
     "output_type": "display_data"
    },
    {
     "data": {
      "text/html": [
       "<pre style=\"white-space:pre;overflow-x:auto;line-height:normal;font-family:Menlo,'DejaVu Sans Mono',consolas,'Courier New',monospace\"></pre>\n"
      ],
      "text/plain": []
     },
     "metadata": {},
     "output_type": "display_data"
    }
   ],
   "source": [
    "from glayout import MappedPDK, sky130 , gf180"
   ]
  },
  {
   "cell_type": "code",
   "execution_count": 3,
   "id": "e212e0be-09b6-4d1e-9b03-4097b804ee4d",
   "metadata": {
    "scrolled": true
   },
   "outputs": [
    {
     "name": "stderr",
     "output_type": "stream",
     "text": [
      "\u001b[32m2025-09-17 05:27:27.400\u001b[0m | \u001b[1mINFO    \u001b[0m | \u001b[36mgdsfactory.pdk\u001b[0m:\u001b[36mactivate\u001b[0m:\u001b[36m337\u001b[0m - \u001b[1m'gf180' PDK is now active\u001b[0m\n"
     ]
    }
   ],
   "source": [
    "pdk=gf180\n",
    "pdk.activate()\n",
    "pdk.set_domain(\"3p3\")"
   ]
  },
  {
   "cell_type": "code",
   "execution_count": 4,
   "id": "62a4cdaa-f941-470b-b069-d06ac66e76cb",
   "metadata": {},
   "outputs": [],
   "source": [
    "import sys\n",
    "import os\n",
    "\n",
    "# Get the absolute path of the directory containing your module\n",
    "module_dir = os.path.abspath('/foss/designs/gLayout/')\n",
    "\n",
    "# Add the directory to sys.path\n",
    "sys.path.append(module_dir)"
   ]
  },
  {
   "cell_type": "code",
   "execution_count": 6,
   "id": "4c48d7fe-2992-4639-9877-d3c21de7998e",
   "metadata": {},
   "outputs": [],
   "source": [
    "from blocks.elementary.current_mirror_custom.current_mirror_custom import generate_pattern_current_mirror, simple_current_mirror"
   ]
  },
  {
   "cell_type": "code",
   "execution_count": 90,
   "id": "04bb1ef9-0b8b-4656-b28b-5cea66425609",
   "metadata": {},
   "outputs": [
    {
     "data": {
      "text/plain": [
       "[[3, 2, 1, 0, 0, 1, 2, 3], [3, 2, 1, 0, 0, 1, 2, 3]]"
      ]
     },
     "execution_count": 90,
     "metadata": {},
     "output_type": "execute_result"
    }
   ],
   "source": [
    "generate_pattern_current_mirror(4, [4,4,4], 2)"
   ]
  },
  {
   "cell_type": "code",
   "execution_count": 16,
   "id": "661d29ec-6315-4a79-bf4e-e2baceb3719f",
   "metadata": {},
   "outputs": [
    {
     "name": "stdout",
     "output_type": "stream",
     "text": [
      "Generated pattern: [['ref2', 'ref1', 'ref0', 'ref0', 'ref1', 'ref2']]\n",
      "{'ref1': [1, 4], 'ref0': [2, 3], 'ref2': [0, 5]}\n",
      "col_1_gate_S\n",
      "col_1_ref1_drain_S\n",
      "1.1\n",
      "0 ref1\n",
      "col_1_ref1_drain_N\n",
      "col_4_ref1_drain_N\n",
      "1 ref0\n",
      "col_2_ref0_drain_N\n",
      "col_3_ref0_drain_N\n",
      "2 ref2\n",
      "col_0_ref2_drain_N\n",
      "col_5_ref2_drain_N\n",
      "Using ref0\n",
      "got indexes [2, 3]\n"
     ]
    }
   ],
   "source": [
    "simple_cm= simple_current_mirror(pdk)"
   ]
  },
  {
   "cell_type": "code",
   "execution_count": 17,
   "id": "530ea205-f0a5-4cdc-a6d4-cc4ccb904e42",
   "metadata": {},
   "outputs": [
    {
     "name": "stderr",
     "output_type": "stream",
     "text": [
      "/headless/conda-env/miniconda3/envs/GLdev/lib/python3.10/site-packages/gdsfactory/show.py:40: UserWarning: Unnamed cells, 1 in 'Unnamed_92861798'\n",
      "  gdspath = component.write_gds(\n",
      "\u001b[32m2025-09-13 18:43:10.429\u001b[0m | \u001b[1mINFO    \u001b[0m | \u001b[36mgdsfactory.klive\u001b[0m:\u001b[36mshow\u001b[0m:\u001b[36m55\u001b[0m - \u001b[1mMessage from klive: {\"version\": \"0.3.3\", \"klayout_version\": \"0.30.2\", \"type\": \"open\", \"file\": \"/tmp/gdsfactory/Unnamed_92861798.gds\"}\u001b[0m\n"
     ]
    }
   ],
   "source": [
    "simple_cm.show()"
   ]
  },
  {
   "cell_type": "code",
   "execution_count": 14,
   "id": "45c393f7-83c8-4a1b-9287-8e5486c446c4",
   "metadata": {},
   "outputs": [
    {
     "data": {
      "text/plain": [
       "{'name': 'col_3_ref0_drain_N', 'width': 0.5, 'center': [-0.365, 3.35], 'orientation': 90.0, 'layer': [42, 0], 'port_type': 'electrical'}"
      ]
     },
     "execution_count": 14,
     "metadata": {},
     "output_type": "execute_result"
    }
   ],
   "source": [
    "simple_cm.ports[\"col_3_ref0_drain_N\"]"
   ]
  },
  {
   "cell_type": "code",
   "execution_count": 16,
   "id": "2821d2b8-189d-4bda-8881-1ac903c27ba4",
   "metadata": {},
   "outputs": [
    {
     "data": {
      "text/plain": [
       "{'name': 'col_2_ref0_drain_N', 'width': 0.5, 'center': [-5.595, 3.35], 'orientation': 90.0, 'layer': [42, 0], 'port_type': 'electrical'}"
      ]
     },
     "execution_count": 16,
     "metadata": {},
     "output_type": "execute_result"
    }
   ],
   "source": [
    "simple_cm.ports[\"col_2_ref0_drain_N\"]"
   ]
  },
  {
   "cell_type": "code",
   "execution_count": 18,
   "id": "8395096f-9ee5-4c3e-8e16-8bfb046a405c",
   "metadata": {},
   "outputs": [
    {
     "data": {
      "text/plain": [
       "{'name': 'col_3_gate_N', 'width': 0.5, 'center': [3.965, 3.35], 'orientation': 90.0, 'layer': [42, 0], 'port_type': 'electrical'}"
      ]
     },
     "execution_count": 18,
     "metadata": {},
     "output_type": "execute_result"
    }
   ],
   "source": [
    "simple_cm.ports[\"col_3_gate_N\"]"
   ]
  },
  {
   "cell_type": "code",
   "execution_count": 7,
   "id": "7e05e40c-86de-48fc-ad46-8d215cf92656",
   "metadata": {},
   "outputs": [],
   "source": [
    "from blocks.elementary.current_mirror_custom.current_mirror_custom import cascoded_current_mirror"
   ]
  },
  {
   "cell_type": "code",
   "execution_count": 8,
   "id": "6c7bee72-aa2f-4a36-9c43-e4dc362053bc",
   "metadata": {
    "scrolled": true
   },
   "outputs": [
    {
     "name": "stdout",
     "output_type": "stream",
     "text": [
      "Generated pattern: [['ref2', 'ref1', 'ref0', 'ref0', 'ref1', 'ref2']]\n",
      "Generated pattern: [['ref2', 'ref1', 'ref0', 'ref0', 'ref1', 'ref2']]\n"
     ]
    },
    {
     "name": "stderr",
     "output_type": "stream",
     "text": [
      "/headless/conda-env/miniconda3/envs/GLdev/lib/python3.10/site-packages/pydantic/main.py:463: UserWarning: Pydantic serializer warnings:\n",
      "  PydanticSerializationUnexpectedValue(Unexpected extra items present in tuple)\n",
      "  return self.__pydantic_serializer__.to_python(\n"
     ]
    },
    {
     "name": "stdout",
     "output_type": "stream",
     "text": [
      "{'ref2': [0, 5], 'ref0': [2, 3], 'ref1': [1, 4]}\n",
      "col_0_gate_S\n",
      "col_0_ref2_drain_S\n",
      "1.1\n",
      "0 ref2\n",
      "col_0_ref2_drain_N\n",
      "col_5_ref2_drain_N\n",
      "1 ref0\n",
      "col_2_ref0_drain_N\n",
      "col_3_ref0_drain_N\n",
      "2 ref1\n",
      "col_1_ref1_drain_N\n",
      "col_4_ref1_drain_N\n",
      "Generated pattern: [['ref2', 'ref1', 'ref0', 'ref0', 'ref1', 'ref2']]\n",
      "{'ref2': [0, 5], 'ref0': [2, 3], 'ref1': [1, 4]}\n",
      "col_0_gate_S\n",
      "col_0_ref2_drain_S\n",
      "1.1\n",
      "0 ref2\n",
      "col_0_ref2_drain_N\n",
      "col_5_ref2_drain_N\n",
      "col_0_ref2_source_S\n",
      "col_5_ref2_source_S\n",
      "1 ref0\n",
      "col_2_ref0_drain_N\n",
      "col_3_ref0_drain_N\n",
      "col_2_ref0_source_S\n",
      "col_3_ref0_source_S\n",
      "2 ref1\n",
      "col_1_ref1_drain_N\n",
      "col_4_ref1_drain_N\n",
      "col_1_ref1_source_S\n",
      "col_4_ref1_source_S\n"
     ]
    }
   ],
   "source": [
    "cascoded_cm= cascoded_current_mirror(pdk)"
   ]
  },
  {
   "cell_type": "code",
   "execution_count": 97,
   "id": "ce7f27d2-8256-4c92-bcf8-21a7dc6238ae",
   "metadata": {},
   "outputs": [
    {
     "name": "stderr",
     "output_type": "stream",
     "text": [
      "/headless/conda-env/miniconda3/envs/GLdev/lib/python3.10/site-packages/gdsfactory/show.py:40: UserWarning: Unnamed cells, 3 in 'Unnamed_c28d4a6e'\n",
      "  gdspath = component.write_gds(\n",
      "\u001b[32m2025-09-14 06:56:02.248\u001b[0m | \u001b[1mINFO    \u001b[0m | \u001b[36mgdsfactory.klive\u001b[0m:\u001b[36mshow\u001b[0m:\u001b[36m55\u001b[0m - \u001b[1mMessage from klive: {\"version\": \"0.3.3\", \"klayout_version\": \"0.30.2\", \"type\": \"open\", \"file\": \"/tmp/gdsfactory/Unnamed_c28d4a6e.gds\"}\u001b[0m\n"
     ]
    }
   ],
   "source": [
    "cascoded_cm.show()"
   ]
  },
  {
   "cell_type": "code",
   "execution_count": 10,
   "id": "65e689cd-c83f-4a5a-94a2-2445f3aa74d3",
   "metadata": {
    "scrolled": true
   },
   "outputs": [
    {
     "data": {
      "text/plain": [
       "['c_tie_W_array_row0_col0_bottom_layer_W',\n",
       " 'c_tie_W_array_row0_col0_bottom_via_W',\n",
       " 'c_tie_W_array_row0_col0_bottom_met_W',\n",
       " 'c_tie_W_array_row0_col0_top_met_W',\n",
       " 'c_tie_W_array_row1_col0_bottom_layer_W',\n",
       " 'c_tie_W_array_row1_col0_bottom_via_W',\n",
       " 'c_tie_W_array_row1_col0_bottom_met_W',\n",
       " 'c_tie_W_array_row1_col0_top_met_W',\n",
       " 'c_tie_W_array_row2_col0_bottom_layer_W',\n",
       " 'c_tie_W_array_row2_col0_bottom_via_W',\n",
       " 'c_tie_W_array_row2_col0_bottom_met_W',\n",
       " 'c_tie_W_array_row2_col0_top_met_W',\n",
       " 'c_tie_W_array_row3_col0_bottom_layer_W',\n",
       " 'c_tie_W_array_row3_col0_bottom_via_W',\n",
       " 'c_tie_W_array_row3_col0_bottom_met_W',\n",
       " 'c_tie_W_array_row3_col0_top_met_W',\n",
       " 'c_tie_W_array_row4_col0_bottom_layer_W',\n",
       " 'c_tie_W_array_row4_col0_bottom_via_W',\n",
       " 'c_tie_W_array_row4_col0_bottom_met_W',\n",
       " 'c_tie_W_array_row4_col0_top_met_W',\n",
       " 'c_tie_W_array_row5_col0_bottom_layer_W',\n",
       " 'c_tie_W_array_row5_col0_bottom_via_W',\n",
       " 'c_tie_W_array_row5_col0_bottom_met_W',\n",
       " 'c_tie_W_array_row5_col0_top_met_W',\n",
       " 'c_tie_W_array_row6_col0_bottom_layer_W',\n",
       " 'c_tie_W_array_row6_col0_bottom_via_W',\n",
       " 'c_tie_W_array_row6_col0_bottom_met_W',\n",
       " 'c_tie_W_array_row6_col0_top_met_W',\n",
       " 'c_tie_W_array_row7_col0_bottom_layer_W',\n",
       " 'c_tie_W_array_row7_col0_bottom_via_W',\n",
       " 'c_tie_W_array_row7_col0_bottom_met_W',\n",
       " 'c_tie_W_array_row7_col0_top_met_W',\n",
       " 'c_tie_W_array_row8_col0_bottom_layer_W',\n",
       " 'c_tie_W_array_row8_col0_bottom_via_W',\n",
       " 'c_tie_W_array_row8_col0_bottom_met_W',\n",
       " 'c_tie_W_array_row8_col0_top_met_W',\n",
       " 'c_tie_W_array_row9_col0_bottom_layer_W',\n",
       " 'c_tie_W_array_row9_col0_bottom_via_W',\n",
       " 'c_tie_W_array_row9_col0_bottom_met_W',\n",
       " 'c_tie_W_array_row9_col0_top_met_W',\n",
       " 'c_tie_W_array_row10_col0_bottom_layer_W',\n",
       " 'c_tie_W_array_row10_col0_bottom_via_W',\n",
       " 'c_tie_W_array_row10_col0_bottom_met_W',\n",
       " 'c_tie_W_array_row10_col0_top_met_W',\n",
       " 'c_tie_W_array_row11_col0_bottom_layer_W',\n",
       " 'c_tie_W_array_row11_col0_bottom_via_W',\n",
       " 'c_tie_W_array_row11_col0_bottom_met_W',\n",
       " 'c_tie_W_array_row11_col0_top_met_W',\n",
       " 'c_tie_W_array_row12_col0_bottom_layer_W',\n",
       " 'c_tie_W_array_row12_col0_bottom_via_W',\n",
       " 'c_tie_W_array_row12_col0_bottom_met_W',\n",
       " 'c_tie_W_array_row12_col0_top_met_W',\n",
       " 'c_tie_W_array_row13_col0_bottom_layer_W',\n",
       " 'c_tie_W_array_row13_col0_bottom_via_W',\n",
       " 'c_tie_W_array_row13_col0_bottom_met_W',\n",
       " 'c_tie_W_array_row13_col0_top_met_W',\n",
       " 'c_tie_W_array_row14_col0_bottom_layer_W',\n",
       " 'c_tie_W_array_row14_col0_bottom_via_W',\n",
       " 'c_tie_W_array_row14_col0_bottom_met_W',\n",
       " 'c_tie_W_array_row14_col0_top_met_W',\n",
       " 'c_tie_W_bottom_lay_W',\n",
       " 'c_tie_W_top_met_W',\n",
       " 'c_tie_W_array_row15_col0_bottom_layer_W',\n",
       " 'c_tie_W_array_row15_col0_bottom_via_W',\n",
       " 'c_tie_W_array_row15_col0_bottom_met_W',\n",
       " 'c_tie_W_array_row15_col0_top_met_W',\n",
       " 'c_tie_W_array_row16_col0_bottom_layer_W',\n",
       " 'c_tie_W_array_row16_col0_bottom_via_W',\n",
       " 'c_tie_W_array_row16_col0_bottom_met_W',\n",
       " 'c_tie_W_array_row16_col0_top_met_W',\n",
       " 'c_tie_W_array_row17_col0_bottom_layer_W',\n",
       " 'c_tie_W_array_row17_col0_bottom_via_W',\n",
       " 'c_tie_W_array_row17_col0_bottom_met_W',\n",
       " 'c_tie_W_array_row17_col0_top_met_W',\n",
       " 'c_tie_W_array_row18_col0_bottom_layer_W',\n",
       " 'c_tie_W_array_row18_col0_bottom_via_W',\n",
       " 'c_tie_W_array_row18_col0_bottom_met_W',\n",
       " 'c_tie_W_array_row18_col0_top_met_W',\n",
       " 'c_tie_W_array_row19_col0_bottom_layer_W',\n",
       " 'c_tie_W_array_row19_col0_bottom_via_W',\n",
       " 'c_tie_W_array_row19_col0_bottom_met_W',\n",
       " 'c_tie_W_array_row19_col0_top_met_W',\n",
       " 'c_tie_W_array_row20_col0_bottom_layer_W',\n",
       " 'c_tie_W_array_row20_col0_bottom_via_W',\n",
       " 'c_tie_W_array_row20_col0_bottom_met_W',\n",
       " 'c_tie_W_array_row20_col0_top_met_W',\n",
       " 'c_tie_W_array_row21_col0_bottom_layer_W',\n",
       " 'c_tie_W_array_row21_col0_bottom_via_W',\n",
       " 'c_tie_W_array_row21_col0_bottom_met_W',\n",
       " 'c_tie_W_array_row21_col0_top_met_W',\n",
       " 'c_tie_W_array_row22_col0_bottom_layer_W',\n",
       " 'c_tie_W_array_row22_col0_bottom_via_W',\n",
       " 'c_tie_W_array_row22_col0_bottom_met_W',\n",
       " 'c_tie_W_array_row22_col0_top_met_W',\n",
       " 'c_tie_W_array_row23_col0_bottom_layer_W',\n",
       " 'c_tie_W_array_row23_col0_bottom_via_W',\n",
       " 'c_tie_W_array_row23_col0_bottom_met_W',\n",
       " 'c_tie_W_array_row23_col0_top_met_W',\n",
       " 'c_tie_W_array_row24_col0_bottom_layer_W',\n",
       " 'c_tie_W_array_row24_col0_bottom_via_W',\n",
       " 'c_tie_W_array_row24_col0_bottom_met_W',\n",
       " 'c_tie_W_array_row24_col0_top_met_W',\n",
       " 'c_tie_W_array_row25_col0_bottom_layer_W',\n",
       " 'c_tie_W_array_row25_col0_bottom_via_W',\n",
       " 'c_tie_W_array_row25_col0_bottom_met_W',\n",
       " 'c_tie_W_array_row25_col0_top_met_W',\n",
       " 'c_tie_W_array_row26_col0_bottom_layer_W',\n",
       " 'c_tie_W_array_row26_col0_bottom_via_W',\n",
       " 'c_tie_W_array_row26_col0_bottom_met_W',\n",
       " 'c_tie_W_array_row26_col0_top_met_W',\n",
       " 'c_tie_W_array_row27_col0_bottom_layer_W',\n",
       " 'c_tie_W_array_row27_col0_bottom_via_W',\n",
       " 'c_tie_W_array_row27_col0_bottom_met_W',\n",
       " 'c_tie_W_array_row27_col0_top_met_W',\n",
       " 'c_tie_W_array_row28_col0_bottom_layer_W',\n",
       " 'c_tie_W_array_row28_col0_bottom_via_W',\n",
       " 'c_tie_W_array_row28_col0_bottom_met_W',\n",
       " 'c_tie_W_array_row28_col0_top_met_W',\n",
       " 'c_tie_W_array_row0_col0_bottom_layer_N',\n",
       " 'c_tie_W_array_row0_col0_bottom_via_N',\n",
       " 'c_tie_W_array_row0_col0_bottom_met_N',\n",
       " 'c_tie_W_array_row0_col0_top_met_N',\n",
       " 'c_tie_W_array_row1_col0_bottom_layer_N',\n",
       " 'c_tie_W_array_row1_col0_bottom_via_N',\n",
       " 'c_tie_W_array_row1_col0_bottom_met_N',\n",
       " 'c_tie_W_array_row1_col0_top_met_N',\n",
       " 'c_tie_W_array_row2_col0_bottom_layer_N',\n",
       " 'c_tie_W_array_row2_col0_bottom_via_N',\n",
       " 'c_tie_W_array_row2_col0_bottom_met_N',\n",
       " 'c_tie_W_array_row2_col0_top_met_N',\n",
       " 'c_tie_W_array_row3_col0_bottom_layer_N',\n",
       " 'c_tie_W_array_row3_col0_bottom_via_N',\n",
       " 'c_tie_W_array_row3_col0_bottom_met_N',\n",
       " 'c_tie_W_array_row3_col0_top_met_N',\n",
       " 'c_tie_W_array_row4_col0_bottom_layer_N',\n",
       " 'c_tie_W_array_row4_col0_bottom_via_N',\n",
       " 'c_tie_W_array_row4_col0_bottom_met_N',\n",
       " 'c_tie_W_array_row4_col0_top_met_N',\n",
       " 'c_tie_W_array_row5_col0_bottom_layer_N',\n",
       " 'c_tie_W_array_row5_col0_bottom_via_N',\n",
       " 'c_tie_W_array_row5_col0_bottom_met_N',\n",
       " 'c_tie_W_array_row5_col0_top_met_N',\n",
       " 'c_tie_W_array_row6_col0_bottom_layer_N',\n",
       " 'c_tie_W_array_row6_col0_bottom_via_N',\n",
       " 'c_tie_W_array_row6_col0_bottom_met_N',\n",
       " 'c_tie_W_array_row6_col0_top_met_N',\n",
       " 'c_tie_W_array_row7_col0_bottom_layer_N',\n",
       " 'c_tie_W_array_row7_col0_bottom_via_N',\n",
       " 'c_tie_W_array_row7_col0_bottom_met_N',\n",
       " 'c_tie_W_array_row7_col0_top_met_N',\n",
       " 'c_tie_W_array_row8_col0_bottom_layer_N',\n",
       " 'c_tie_W_array_row8_col0_bottom_via_N',\n",
       " 'c_tie_W_array_row8_col0_bottom_met_N',\n",
       " 'c_tie_W_array_row8_col0_top_met_N',\n",
       " 'c_tie_W_array_row9_col0_bottom_layer_N',\n",
       " 'c_tie_W_array_row9_col0_bottom_via_N',\n",
       " 'c_tie_W_array_row9_col0_bottom_met_N',\n",
       " 'c_tie_W_array_row9_col0_top_met_N',\n",
       " 'c_tie_W_array_row10_col0_bottom_layer_N',\n",
       " 'c_tie_W_array_row10_col0_bottom_via_N',\n",
       " 'c_tie_W_array_row10_col0_bottom_met_N',\n",
       " 'c_tie_W_array_row10_col0_top_met_N',\n",
       " 'c_tie_W_array_row11_col0_bottom_layer_N',\n",
       " 'c_tie_W_array_row11_col0_bottom_via_N',\n",
       " 'c_tie_W_array_row11_col0_bottom_met_N',\n",
       " 'c_tie_W_array_row11_col0_top_met_N',\n",
       " 'c_tie_W_array_row12_col0_bottom_layer_N',\n",
       " 'c_tie_W_array_row12_col0_bottom_via_N',\n",
       " 'c_tie_W_array_row12_col0_bottom_met_N',\n",
       " 'c_tie_W_array_row12_col0_top_met_N',\n",
       " 'c_tie_W_array_row13_col0_bottom_layer_N',\n",
       " 'c_tie_W_array_row13_col0_bottom_via_N',\n",
       " 'c_tie_W_array_row13_col0_bottom_met_N',\n",
       " 'c_tie_W_array_row13_col0_top_met_N',\n",
       " 'c_tie_W_array_row14_col0_bottom_layer_N',\n",
       " 'c_tie_W_array_row14_col0_bottom_via_N',\n",
       " 'c_tie_W_array_row14_col0_bottom_met_N',\n",
       " 'c_tie_W_array_row14_col0_top_met_N',\n",
       " 'c_tie_W_array_row15_col0_bottom_layer_N',\n",
       " 'c_tie_W_array_row15_col0_bottom_via_N',\n",
       " 'c_tie_W_array_row15_col0_bottom_met_N',\n",
       " 'c_tie_W_array_row15_col0_top_met_N',\n",
       " 'c_tie_W_array_row16_col0_bottom_layer_N',\n",
       " 'c_tie_W_array_row16_col0_bottom_via_N',\n",
       " 'c_tie_W_array_row16_col0_bottom_met_N',\n",
       " 'c_tie_W_array_row16_col0_top_met_N',\n",
       " 'c_tie_W_array_row17_col0_bottom_layer_N',\n",
       " 'c_tie_W_array_row17_col0_bottom_via_N',\n",
       " 'c_tie_W_array_row17_col0_bottom_met_N',\n",
       " 'c_tie_W_array_row17_col0_top_met_N',\n",
       " 'c_tie_W_array_row18_col0_bottom_layer_N',\n",
       " 'c_tie_W_array_row18_col0_bottom_via_N',\n",
       " 'c_tie_W_array_row18_col0_bottom_met_N',\n",
       " 'c_tie_W_array_row18_col0_top_met_N',\n",
       " 'c_tie_W_array_row19_col0_bottom_layer_N',\n",
       " 'c_tie_W_array_row19_col0_bottom_via_N',\n",
       " 'c_tie_W_array_row19_col0_bottom_met_N',\n",
       " 'c_tie_W_array_row19_col0_top_met_N',\n",
       " 'c_tie_W_array_row20_col0_bottom_layer_N',\n",
       " 'c_tie_W_array_row20_col0_bottom_via_N',\n",
       " 'c_tie_W_array_row20_col0_bottom_met_N',\n",
       " 'c_tie_W_array_row20_col0_top_met_N',\n",
       " 'c_tie_W_array_row21_col0_bottom_layer_N',\n",
       " 'c_tie_W_array_row21_col0_bottom_via_N',\n",
       " 'c_tie_W_array_row21_col0_bottom_met_N',\n",
       " 'c_tie_W_array_row21_col0_top_met_N',\n",
       " 'c_tie_W_array_row22_col0_bottom_layer_N',\n",
       " 'c_tie_W_array_row22_col0_bottom_via_N',\n",
       " 'c_tie_W_array_row22_col0_bottom_met_N',\n",
       " 'c_tie_W_array_row22_col0_top_met_N',\n",
       " 'c_tie_W_array_row23_col0_bottom_layer_N',\n",
       " 'c_tie_W_array_row23_col0_bottom_via_N',\n",
       " 'c_tie_W_array_row23_col0_bottom_met_N',\n",
       " 'c_tie_W_array_row23_col0_top_met_N',\n",
       " 'c_tie_W_array_row24_col0_bottom_layer_N',\n",
       " 'c_tie_W_array_row24_col0_bottom_via_N',\n",
       " 'c_tie_W_array_row24_col0_bottom_met_N',\n",
       " 'c_tie_W_array_row24_col0_top_met_N',\n",
       " 'c_tie_W_array_row25_col0_bottom_layer_N',\n",
       " 'c_tie_W_array_row25_col0_bottom_via_N',\n",
       " 'c_tie_W_array_row25_col0_bottom_met_N',\n",
       " 'c_tie_W_array_row25_col0_top_met_N',\n",
       " 'c_tie_W_array_row26_col0_bottom_layer_N',\n",
       " 'c_tie_W_array_row26_col0_bottom_via_N',\n",
       " 'c_tie_W_array_row26_col0_bottom_met_N',\n",
       " 'c_tie_W_array_row26_col0_top_met_N',\n",
       " 'c_tie_W_array_row27_col0_bottom_layer_N',\n",
       " 'c_tie_W_array_row27_col0_bottom_via_N',\n",
       " 'c_tie_W_array_row27_col0_bottom_met_N',\n",
       " 'c_tie_W_array_row27_col0_top_met_N',\n",
       " 'c_tie_W_array_row28_col0_bottom_layer_N',\n",
       " 'c_tie_W_array_row28_col0_bottom_via_N',\n",
       " 'c_tie_W_array_row28_col0_bottom_met_N',\n",
       " 'c_tie_W_array_row28_col0_top_met_N',\n",
       " 'c_tie_W_bottom_lay_N',\n",
       " 'c_tie_W_top_met_N',\n",
       " 'c_tie_W_array_row28_col0_bottom_layer_E',\n",
       " 'c_tie_W_array_row28_col0_bottom_via_E',\n",
       " 'c_tie_W_array_row28_col0_bottom_met_E',\n",
       " 'c_tie_W_array_row28_col0_top_met_E',\n",
       " 'c_tie_W_array_row27_col0_bottom_layer_E',\n",
       " 'c_tie_W_array_row27_col0_bottom_via_E',\n",
       " 'c_tie_W_array_row27_col0_bottom_met_E',\n",
       " 'c_tie_W_array_row27_col0_top_met_E',\n",
       " 'c_tie_W_array_row26_col0_bottom_layer_E',\n",
       " 'c_tie_W_array_row26_col0_bottom_via_E',\n",
       " 'c_tie_W_array_row26_col0_bottom_met_E',\n",
       " 'c_tie_W_array_row26_col0_top_met_E',\n",
       " 'c_tie_W_array_row25_col0_bottom_layer_E',\n",
       " 'c_tie_W_array_row25_col0_bottom_via_E',\n",
       " 'c_tie_W_array_row25_col0_bottom_met_E',\n",
       " 'c_tie_W_array_row25_col0_top_met_E',\n",
       " 'c_tie_W_array_row24_col0_bottom_layer_E',\n",
       " 'c_tie_W_array_row24_col0_bottom_via_E',\n",
       " 'c_tie_W_array_row24_col0_bottom_met_E',\n",
       " 'c_tie_W_array_row24_col0_top_met_E',\n",
       " 'c_tie_W_array_row23_col0_bottom_layer_E',\n",
       " 'c_tie_W_array_row23_col0_bottom_via_E',\n",
       " 'c_tie_W_array_row23_col0_bottom_met_E',\n",
       " 'c_tie_W_array_row23_col0_top_met_E',\n",
       " 'c_tie_W_array_row22_col0_bottom_layer_E',\n",
       " 'c_tie_W_array_row22_col0_bottom_via_E',\n",
       " 'c_tie_W_array_row22_col0_bottom_met_E',\n",
       " 'c_tie_W_array_row22_col0_top_met_E',\n",
       " 'c_tie_W_array_row21_col0_bottom_layer_E',\n",
       " 'c_tie_W_array_row21_col0_bottom_via_E',\n",
       " 'c_tie_W_array_row21_col0_bottom_met_E',\n",
       " 'c_tie_W_array_row21_col0_top_met_E',\n",
       " 'c_tie_W_array_row20_col0_bottom_layer_E',\n",
       " 'c_tie_W_array_row20_col0_bottom_via_E',\n",
       " 'c_tie_W_array_row20_col0_bottom_met_E',\n",
       " 'c_tie_W_array_row20_col0_top_met_E',\n",
       " 'c_tie_W_array_row19_col0_bottom_layer_E',\n",
       " 'c_tie_W_array_row19_col0_bottom_via_E',\n",
       " 'c_tie_W_array_row19_col0_bottom_met_E',\n",
       " 'c_tie_W_array_row19_col0_top_met_E',\n",
       " 'c_tie_W_array_row18_col0_bottom_layer_E',\n",
       " 'c_tie_W_array_row18_col0_bottom_via_E',\n",
       " 'c_tie_W_array_row18_col0_bottom_met_E',\n",
       " 'c_tie_W_array_row18_col0_top_met_E',\n",
       " 'c_tie_W_array_row17_col0_bottom_layer_E',\n",
       " 'c_tie_W_array_row17_col0_bottom_via_E',\n",
       " 'c_tie_W_array_row17_col0_bottom_met_E',\n",
       " 'c_tie_W_array_row17_col0_top_met_E',\n",
       " 'c_tie_W_array_row16_col0_bottom_layer_E',\n",
       " 'c_tie_W_array_row16_col0_bottom_via_E',\n",
       " 'c_tie_W_array_row16_col0_bottom_met_E',\n",
       " 'c_tie_W_array_row16_col0_top_met_E',\n",
       " 'c_tie_W_array_row15_col0_bottom_layer_E',\n",
       " 'c_tie_W_array_row15_col0_bottom_via_E',\n",
       " 'c_tie_W_array_row15_col0_bottom_met_E',\n",
       " 'c_tie_W_array_row15_col0_top_met_E',\n",
       " 'c_tie_W_array_row14_col0_bottom_layer_E',\n",
       " 'c_tie_W_array_row14_col0_bottom_via_E',\n",
       " 'c_tie_W_array_row14_col0_bottom_met_E',\n",
       " 'c_tie_W_array_row14_col0_top_met_E',\n",
       " 'c_tie_W_bottom_lay_E',\n",
       " 'c_tie_W_top_met_E',\n",
       " 'c_tie_W_array_row13_col0_bottom_layer_E',\n",
       " 'c_tie_W_array_row13_col0_bottom_via_E',\n",
       " 'c_tie_W_array_row13_col0_bottom_met_E',\n",
       " 'c_tie_W_array_row13_col0_top_met_E',\n",
       " 'c_tie_W_array_row12_col0_bottom_layer_E',\n",
       " 'c_tie_W_array_row12_col0_bottom_via_E',\n",
       " 'c_tie_W_array_row12_col0_bottom_met_E',\n",
       " 'c_tie_W_array_row12_col0_top_met_E',\n",
       " 'c_tie_W_array_row11_col0_bottom_layer_E',\n",
       " 'c_tie_W_array_row11_col0_bottom_via_E',\n",
       " 'c_tie_W_array_row11_col0_bottom_met_E',\n",
       " 'c_tie_W_array_row11_col0_top_met_E',\n",
       " 'c_tie_W_array_row10_col0_bottom_layer_E',\n",
       " 'c_tie_W_array_row10_col0_bottom_via_E',\n",
       " 'c_tie_W_array_row10_col0_bottom_met_E',\n",
       " 'c_tie_W_array_row10_col0_top_met_E',\n",
       " 'c_tie_W_array_row9_col0_bottom_layer_E',\n",
       " 'c_tie_W_array_row9_col0_bottom_via_E',\n",
       " 'c_tie_W_array_row9_col0_bottom_met_E',\n",
       " 'c_tie_W_array_row9_col0_top_met_E',\n",
       " 'c_tie_W_array_row8_col0_bottom_layer_E',\n",
       " 'c_tie_W_array_row8_col0_bottom_via_E',\n",
       " 'c_tie_W_array_row8_col0_bottom_met_E',\n",
       " 'c_tie_W_array_row8_col0_top_met_E',\n",
       " 'c_tie_W_array_row7_col0_bottom_layer_E',\n",
       " 'c_tie_W_array_row7_col0_bottom_via_E',\n",
       " 'c_tie_W_array_row7_col0_bottom_met_E',\n",
       " 'c_tie_W_array_row7_col0_top_met_E',\n",
       " 'c_tie_W_array_row6_col0_bottom_layer_E',\n",
       " 'c_tie_W_array_row6_col0_bottom_via_E',\n",
       " 'c_tie_W_array_row6_col0_bottom_met_E',\n",
       " 'c_tie_W_array_row6_col0_top_met_E',\n",
       " 'c_tie_W_array_row5_col0_bottom_layer_E',\n",
       " 'c_tie_W_array_row5_col0_bottom_via_E',\n",
       " 'c_tie_W_array_row5_col0_bottom_met_E',\n",
       " 'c_tie_W_array_row5_col0_top_met_E',\n",
       " 'c_tie_W_array_row4_col0_bottom_layer_E',\n",
       " 'c_tie_W_array_row4_col0_bottom_via_E',\n",
       " 'c_tie_W_array_row4_col0_bottom_met_E',\n",
       " 'c_tie_W_array_row4_col0_top_met_E',\n",
       " 'c_tie_W_array_row3_col0_bottom_layer_E',\n",
       " 'c_tie_W_array_row3_col0_bottom_via_E',\n",
       " 'c_tie_W_array_row3_col0_bottom_met_E',\n",
       " 'c_tie_W_array_row3_col0_top_met_E',\n",
       " 'c_tie_W_array_row2_col0_bottom_layer_E',\n",
       " 'c_tie_W_array_row2_col0_bottom_via_E',\n",
       " 'c_tie_W_array_row2_col0_bottom_met_E',\n",
       " 'c_tie_W_array_row2_col0_top_met_E',\n",
       " 'c_tie_W_array_row1_col0_bottom_layer_E',\n",
       " 'c_tie_W_array_row1_col0_bottom_via_E',\n",
       " 'c_tie_W_array_row1_col0_bottom_met_E',\n",
       " 'c_tie_W_array_row1_col0_top_met_E',\n",
       " 'c_tie_W_array_row0_col0_bottom_layer_E',\n",
       " 'c_tie_W_array_row0_col0_bottom_via_E',\n",
       " 'c_tie_W_array_row0_col0_bottom_met_E',\n",
       " 'c_tie_W_array_row0_col0_top_met_E',\n",
       " 'c_tie_W_array_row0_col0_bottom_layer_S',\n",
       " 'c_tie_W_array_row0_col0_bottom_via_S',\n",
       " 'c_tie_W_array_row0_col0_bottom_met_S',\n",
       " 'c_tie_W_array_row0_col0_top_met_S',\n",
       " 'c_tie_W_array_row1_col0_bottom_layer_S',\n",
       " 'c_tie_W_array_row1_col0_bottom_via_S',\n",
       " 'c_tie_W_array_row1_col0_bottom_met_S',\n",
       " 'c_tie_W_array_row1_col0_top_met_S',\n",
       " 'c_tie_W_array_row2_col0_bottom_layer_S',\n",
       " 'c_tie_W_array_row2_col0_bottom_via_S',\n",
       " 'c_tie_W_array_row2_col0_bottom_met_S',\n",
       " 'c_tie_W_array_row2_col0_top_met_S',\n",
       " 'c_tie_W_array_row3_col0_bottom_layer_S',\n",
       " 'c_tie_W_array_row3_col0_bottom_via_S',\n",
       " 'c_tie_W_array_row3_col0_bottom_met_S',\n",
       " 'c_tie_W_array_row3_col0_top_met_S',\n",
       " 'c_tie_W_array_row4_col0_bottom_layer_S',\n",
       " 'c_tie_W_array_row4_col0_bottom_via_S',\n",
       " 'c_tie_W_array_row4_col0_bottom_met_S',\n",
       " 'c_tie_W_array_row4_col0_top_met_S',\n",
       " 'c_tie_W_array_row5_col0_bottom_layer_S',\n",
       " 'c_tie_W_array_row5_col0_bottom_via_S',\n",
       " 'c_tie_W_array_row5_col0_bottom_met_S',\n",
       " 'c_tie_W_array_row5_col0_top_met_S',\n",
       " 'c_tie_W_array_row6_col0_bottom_layer_S',\n",
       " 'c_tie_W_array_row6_col0_bottom_via_S',\n",
       " 'c_tie_W_array_row6_col0_bottom_met_S',\n",
       " 'c_tie_W_array_row6_col0_top_met_S',\n",
       " 'c_tie_W_array_row7_col0_bottom_layer_S',\n",
       " 'c_tie_W_array_row7_col0_bottom_via_S',\n",
       " 'c_tie_W_array_row7_col0_bottom_met_S',\n",
       " 'c_tie_W_array_row7_col0_top_met_S',\n",
       " 'c_tie_W_array_row8_col0_bottom_layer_S',\n",
       " 'c_tie_W_array_row8_col0_bottom_via_S',\n",
       " 'c_tie_W_array_row8_col0_bottom_met_S',\n",
       " 'c_tie_W_array_row8_col0_top_met_S',\n",
       " 'c_tie_W_array_row9_col0_bottom_layer_S',\n",
       " 'c_tie_W_array_row9_col0_bottom_via_S',\n",
       " 'c_tie_W_array_row9_col0_bottom_met_S',\n",
       " 'c_tie_W_array_row9_col0_top_met_S',\n",
       " 'c_tie_W_array_row10_col0_bottom_layer_S',\n",
       " 'c_tie_W_array_row10_col0_bottom_via_S',\n",
       " 'c_tie_W_array_row10_col0_bottom_met_S',\n",
       " 'c_tie_W_array_row10_col0_top_met_S',\n",
       " 'c_tie_W_array_row11_col0_bottom_layer_S',\n",
       " 'c_tie_W_array_row11_col0_bottom_via_S',\n",
       " 'c_tie_W_array_row11_col0_bottom_met_S',\n",
       " 'c_tie_W_array_row11_col0_top_met_S',\n",
       " 'c_tie_W_array_row12_col0_bottom_layer_S',\n",
       " 'c_tie_W_array_row12_col0_bottom_via_S',\n",
       " 'c_tie_W_array_row12_col0_bottom_met_S',\n",
       " 'c_tie_W_array_row12_col0_top_met_S',\n",
       " 'c_tie_W_array_row13_col0_bottom_layer_S',\n",
       " 'c_tie_W_array_row13_col0_bottom_via_S',\n",
       " 'c_tie_W_array_row13_col0_bottom_met_S',\n",
       " 'c_tie_W_array_row13_col0_top_met_S',\n",
       " 'c_tie_W_array_row14_col0_bottom_layer_S',\n",
       " 'c_tie_W_array_row14_col0_bottom_via_S',\n",
       " 'c_tie_W_array_row14_col0_bottom_met_S',\n",
       " 'c_tie_W_array_row14_col0_top_met_S',\n",
       " 'c_tie_W_array_row15_col0_bottom_layer_S',\n",
       " 'c_tie_W_array_row15_col0_bottom_via_S',\n",
       " 'c_tie_W_array_row15_col0_bottom_met_S',\n",
       " 'c_tie_W_array_row15_col0_top_met_S',\n",
       " 'c_tie_W_array_row16_col0_bottom_layer_S',\n",
       " 'c_tie_W_array_row16_col0_bottom_via_S',\n",
       " 'c_tie_W_array_row16_col0_bottom_met_S',\n",
       " 'c_tie_W_array_row16_col0_top_met_S',\n",
       " 'c_tie_W_array_row17_col0_bottom_layer_S',\n",
       " 'c_tie_W_array_row17_col0_bottom_via_S',\n",
       " 'c_tie_W_array_row17_col0_bottom_met_S',\n",
       " 'c_tie_W_array_row17_col0_top_met_S',\n",
       " 'c_tie_W_array_row18_col0_bottom_layer_S',\n",
       " 'c_tie_W_array_row18_col0_bottom_via_S',\n",
       " 'c_tie_W_array_row18_col0_bottom_met_S',\n",
       " 'c_tie_W_array_row18_col0_top_met_S',\n",
       " 'c_tie_W_array_row19_col0_bottom_layer_S',\n",
       " 'c_tie_W_array_row19_col0_bottom_via_S',\n",
       " 'c_tie_W_array_row19_col0_bottom_met_S',\n",
       " 'c_tie_W_array_row19_col0_top_met_S',\n",
       " 'c_tie_W_array_row20_col0_bottom_layer_S',\n",
       " 'c_tie_W_array_row20_col0_bottom_via_S',\n",
       " 'c_tie_W_array_row20_col0_bottom_met_S',\n",
       " 'c_tie_W_array_row20_col0_top_met_S',\n",
       " 'c_tie_W_array_row21_col0_bottom_layer_S',\n",
       " 'c_tie_W_array_row21_col0_bottom_via_S',\n",
       " 'c_tie_W_array_row21_col0_bottom_met_S',\n",
       " 'c_tie_W_array_row21_col0_top_met_S',\n",
       " 'c_tie_W_array_row22_col0_bottom_layer_S',\n",
       " 'c_tie_W_array_row22_col0_bottom_via_S',\n",
       " 'c_tie_W_array_row22_col0_bottom_met_S',\n",
       " 'c_tie_W_array_row22_col0_top_met_S',\n",
       " 'c_tie_W_array_row23_col0_bottom_layer_S',\n",
       " 'c_tie_W_array_row23_col0_bottom_via_S',\n",
       " 'c_tie_W_array_row23_col0_bottom_met_S',\n",
       " 'c_tie_W_array_row23_col0_top_met_S',\n",
       " 'c_tie_W_array_row24_col0_bottom_layer_S',\n",
       " 'c_tie_W_array_row24_col0_bottom_via_S',\n",
       " 'c_tie_W_array_row24_col0_bottom_met_S',\n",
       " 'c_tie_W_array_row24_col0_top_met_S',\n",
       " 'c_tie_W_array_row25_col0_bottom_layer_S',\n",
       " 'c_tie_W_array_row25_col0_bottom_via_S',\n",
       " 'c_tie_W_array_row25_col0_bottom_met_S',\n",
       " 'c_tie_W_array_row25_col0_top_met_S',\n",
       " 'c_tie_W_array_row26_col0_bottom_layer_S',\n",
       " 'c_tie_W_array_row26_col0_bottom_via_S',\n",
       " 'c_tie_W_array_row26_col0_bottom_met_S',\n",
       " 'c_tie_W_array_row26_col0_top_met_S',\n",
       " 'c_tie_W_array_row27_col0_bottom_layer_S',\n",
       " 'c_tie_W_array_row27_col0_bottom_via_S',\n",
       " 'c_tie_W_array_row27_col0_bottom_met_S',\n",
       " 'c_tie_W_array_row27_col0_top_met_S',\n",
       " 'c_tie_W_array_row28_col0_bottom_layer_S',\n",
       " 'c_tie_W_array_row28_col0_bottom_via_S',\n",
       " 'c_tie_W_array_row28_col0_bottom_met_S',\n",
       " 'c_tie_W_array_row28_col0_top_met_S',\n",
       " 'c_tie_W_bottom_lay_S',\n",
       " 'c_tie_W_top_met_S']"
      ]
     },
     "execution_count": 10,
     "metadata": {},
     "output_type": "execute_result"
    }
   ],
   "source": [
    "list(filter(lambda x: x.startswith(\"c_tie_W\"), cascoded_cm.ports))"
   ]
  },
  {
   "cell_type": "code",
   "execution_count": 5,
   "id": "ecae4913-b697-45cb-ab9e-63bd79f6b4c7",
   "metadata": {},
   "outputs": [],
   "source": [
    "from blocks.elementary.current_mirror_custom.current_mirror_custom import wide_swing_current_mirror"
   ]
  },
  {
   "cell_type": "code",
   "execution_count": 27,
   "id": "fed463ad-83eb-45cd-b50f-f9bc116f11c4",
   "metadata": {},
   "outputs": [
    {
     "name": "stdout",
     "output_type": "stream",
     "text": [
      "Generated pattern: [['ref2', 'ref1', 'ref0', 'ref0', 'ref1', 'ref2']]\n",
      "Generated pattern: [['ref2', 'ref1', 'ref0', 'ref0', 'ref1', 'ref2']]\n",
      "{'ref2': [0, 5], 'ref0': [2, 3], 'ref1': [1, 4]}\n",
      "col_0_gate_S\n",
      "col_0_ref2_drain_S\n",
      "1.1\n",
      "0 ref2\n",
      "col_0_ref2_drain_N\n",
      "col_5_ref2_drain_N\n",
      "1 ref0\n",
      "col_2_ref0_drain_N\n",
      "col_3_ref0_drain_N\n",
      "2 ref1\n",
      "col_1_ref1_drain_N\n",
      "col_4_ref1_drain_N\n",
      "Generated pattern: [['ref2', 'ref1', 'ref0', 'ref0', 'ref1', 'ref2']]\n",
      "{'ref2': [0, 5], 'ref0': [2, 3], 'ref1': [1, 4]}\n",
      "col_0_gate_S\n",
      "col_0_ref2_drain_S\n",
      "1.1\n",
      "0 ref2\n",
      "col_0_ref2_drain_N\n",
      "col_5_ref2_drain_N\n",
      "col_0_ref2_source_S\n",
      "col_5_ref2_source_S\n",
      "1 ref0\n",
      "col_2_ref0_drain_N\n",
      "col_3_ref0_drain_N\n",
      "col_2_ref0_source_S\n",
      "col_3_ref0_source_S\n",
      "2 ref1\n",
      "col_1_ref1_drain_N\n",
      "col_4_ref1_drain_N\n",
      "col_1_ref1_source_S\n",
      "col_4_ref1_source_S\n",
      "{'casref': [0]}\n",
      "col_0_gate_S\n",
      "col_0_casref_drain_S\n",
      "1.1\n",
      "0 casref\n"
     ]
    }
   ],
   "source": [
    "wide_cm= wide_swing_current_mirror(pdk)"
   ]
  },
  {
   "cell_type": "code",
   "execution_count": 28,
   "id": "c8d611ae-1192-4a27-8367-c26ee8c68614",
   "metadata": {},
   "outputs": [
    {
     "name": "stderr",
     "output_type": "stream",
     "text": [
      "/headless/conda-env/miniconda3/envs/GLdev/lib/python3.10/site-packages/gdsfactory/show.py:40: UserWarning: Unnamed cells, 3 in 'Unnamed_00fb75c4'\n",
      "  gdspath = component.write_gds(\n",
      "\u001b[32m2025-09-15 07:51:44.503\u001b[0m | \u001b[1mINFO    \u001b[0m | \u001b[36mgdsfactory.klive\u001b[0m:\u001b[36mshow\u001b[0m:\u001b[36m55\u001b[0m - \u001b[1mMessage from klive: {\"version\": \"0.3.3\", \"klayout_version\": \"0.30.2\", \"type\": \"open\", \"file\": \"/tmp/gdsfactory/Unnamed_00fb75c4.gds\"}\u001b[0m\n"
     ]
    }
   ],
   "source": [
    "wide_cm.show()"
   ]
  },
  {
   "cell_type": "code",
   "execution_count": 25,
   "id": "d1047aab-a0e6-4669-a3a7-88148d660ad2",
   "metadata": {
    "scrolled": true
   },
   "outputs": [
    {
     "data": {
      "text/plain": [
       "['c_route_ref1_1_sourcecon_W',\n",
       " 'c_route_ref0_2_sourcecon_W',\n",
       " 'c_route_ref2_0_sourcecon_W',\n",
       " 'c_route_0_gatecon_W',\n",
       " 'c_route_1_gatecon_W',\n",
       " 'c_route_2_gatecon_W',\n",
       " 'c_route_3_gatecon_W',\n",
       " 'c_route_4_gatecon_W',\n",
       " 'c_route_ref2_0_draincon_W',\n",
       " 'c_route_ref0_2_draincon_W',\n",
       " 'c_route_ref1_1_draincon_W',\n",
       " 'c_route_ref1_1_draincon_E',\n",
       " 'c_route_ref0_2_draincon_E',\n",
       " 'c_route_ref2_0_draincon_E',\n",
       " 'c_route_0_gatecon_E',\n",
       " 'c_route_1_gatecon_E',\n",
       " 'c_route_2_gatecon_E',\n",
       " 'c_route_3_gatecon_E',\n",
       " 'c_route_4_gatecon_E',\n",
       " 'c_route_ref2_0_sourcecon_E',\n",
       " 'c_route_ref0_2_sourcecon_E',\n",
       " 'c_route_ref1_1_sourcecon_E']"
      ]
     },
     "execution_count": 25,
     "metadata": {},
     "output_type": "execute_result"
    }
   ],
   "source": [
    "list(filter(lambda x: x.startswith(\"c_route\"), wide_cm.ports))"
   ]
  },
  {
   "cell_type": "code",
   "execution_count": 20,
   "id": "58ecaca3-6d34-49c4-b9b2-4807d7c4c3ad",
   "metadata": {},
   "outputs": [
    {
     "name": "stdout",
     "output_type": "stream",
     "text": [
      "Generated pattern: [['ref2', 'ref1', 'ref0', 'ref0', 'ref1', 'ref2']]\n",
      "Generated pattern: [['ref2', 'ref1', 'ref0', 'ref0', 'ref1', 'ref2']]\n",
      "{'ref1': [1, 4], 'ref0': [2, 3], 'ref2': [0, 5]}\n",
      "col_1_gate_S\n",
      "col_1_ref1_drain_S\n",
      "1.1\n",
      "0 ref1\n",
      "col_1_ref1_drain_S\n",
      "col_4_ref1_drain_S\n",
      "1 ref0\n",
      "col_2_ref0_drain_S\n",
      "col_3_ref0_drain_S\n",
      "2 ref2\n",
      "col_0_ref2_drain_S\n",
      "col_5_ref2_drain_S\n",
      "Generated pattern: [['ref2', 'ref1', 'ref0', 'ref0', 'ref1', 'ref2']]\n",
      "{'ref1': [1, 4], 'ref0': [2, 3], 'ref2': [0, 5]}\n",
      "col_1_gate_S\n",
      "col_1_ref1_drain_S\n",
      "1.1\n",
      "0 ref1\n",
      "col_1_ref1_drain_S\n",
      "col_4_ref1_drain_S\n",
      "col_1_ref1_source_N\n",
      "col_4_ref1_source_N\n",
      "1 ref0\n",
      "col_2_ref0_drain_S\n",
      "col_3_ref0_drain_S\n",
      "col_2_ref0_source_N\n",
      "col_3_ref0_source_N\n",
      "2 ref2\n",
      "col_0_ref2_drain_S\n",
      "col_5_ref2_drain_S\n",
      "col_0_ref2_source_N\n",
      "col_5_ref2_source_N\n",
      "{'ref': [0]}\n",
      "col_0_gate_S\n",
      "col_0_ref_drain_S\n",
      "1.1\n",
      "0 ref\n"
     ]
    }
   ],
   "source": [
    "widep_cm= wide_swing_current_mirror(pdk,fet_type=\"pmos\",domain=\"5p0\")"
   ]
  },
  {
   "cell_type": "code",
   "execution_count": 21,
   "id": "fb1622ba-9a9f-4a1d-a765-4a223910bf57",
   "metadata": {},
   "outputs": [
    {
     "name": "stderr",
     "output_type": "stream",
     "text": [
      "/headless/conda-env/miniconda3/envs/GLdev/lib/python3.10/site-packages/gdsfactory/show.py:40: UserWarning: Unnamed cells, 3 in 'Unnamed_33b833c7'\n",
      "  gdspath = component.write_gds(\n",
      "\u001b[32m2025-09-17 08:20:50.301\u001b[0m | \u001b[1mINFO    \u001b[0m | \u001b[36mgdsfactory.klive\u001b[0m:\u001b[36mshow\u001b[0m:\u001b[36m55\u001b[0m - \u001b[1mMessage from klive: {\"version\": \"0.3.3\", \"klayout_version\": \"0.30.2\", \"type\": \"open\", \"file\": \"/tmp/gdsfactory/Unnamed_33b833c7.gds\"}\u001b[0m\n"
     ]
    }
   ],
   "source": [
    "widep_cm.show()"
   ]
  },
  {
   "cell_type": "code",
   "execution_count": null,
   "id": "ca62cc7b-4b7b-4512-8be8-2004eca2c327",
   "metadata": {},
   "outputs": [],
   "source": []
  }
 ],
 "metadata": {
  "kernelspec": {
   "display_name": "GLdev",
   "language": "python",
   "name": "gldev"
  },
  "language_info": {
   "codemirror_mode": {
    "name": "ipython",
    "version": 3
   },
   "file_extension": ".py",
   "mimetype": "text/x-python",
   "name": "python",
   "nbconvert_exporter": "python",
   "pygments_lexer": "ipython3",
   "version": "3.10.18"
  }
 },
 "nbformat": 4,
 "nbformat_minor": 5
}
