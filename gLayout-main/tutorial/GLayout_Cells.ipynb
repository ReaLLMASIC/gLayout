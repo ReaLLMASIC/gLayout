{
 "cells": [
  {
   "cell_type": "markdown",
   "id": "ef7a3749-f1e6-49b0-a887-b8cc8dd2478c",
   "metadata": {},
   "source": [
    "# GLayout: List of Built-in Cells\n",
    "```\n",
    "OpenFASOC Team, Feb 2024\n",
    "SPDX-License-Identifier: Apache-2.0\n",
    "```\n",
    "\n",
    "## Introduction\n",
    "Welcome!\n",
    "This notebook serves as an introduction to the GDSFactory-based layout automation tool **GLayout** and an example two-stage Operational Amplifier (Op-Amp) generator, as a part of [OpenFASoC](https://github.com/idea-fasoc/OpenFASOC).  \n",
    "\n",
    "### List of Generators\n",
    "\n",
    "**Utility Generators**\n",
    "- Via\n",
    "- Guardring\n",
    "- Routing (Straight, L, and C)\n",
    "\n",
    "**PCell Generators**\n",
    "1. Primitive Cells / `glayout.primitives`\n",
    "  - FET (NMOS, PMOS)\n",
    "  - MIM Capacitor\n",
    "  - Guard Rings with Metalization\n",
    "  - Via\n",
    "\n",
    "\n",
    "2. Intermediate PCells / `glayout.components`\n",
    "  - Differential Pair\n",
    "  - Differential to Single-Ended Converter\n",
    "\n",
    "\n",
    "3. WIP PCells (The cells can be used inside other PCells, but are not available as standalone PCells yet)\n",
    "  - Current Mirror\n",
    "\n",
    "**High-Level Design Examples**\n",
    "- OPAMP / `glayout.components.opamp`"
   ]
  },
  {
   "cell_type": "code",
   "execution_count": 1,
   "id": "702f856b",
   "metadata": {},
   "outputs": [],
   "source": [
    "from glayout import gf180, sky130\n",
    "import gdstk\n",
    "import svgutils.transform as sg\n",
    "import IPython.display\n",
    "from IPython.display import clear_output\n",
    "import ipywidgets as widgets\n",
    "\n",
    "# Redirect all outputs here\n",
    "hide = widgets.Output()\n",
    "\n",
    "def display_gds(gds_file, scale = 3):\n",
    "  # Generate an SVG image\n",
    "  top_level_cell = gdstk.read_gds(gds_file).top_level()[0]\n",
    "  top_level_cell.write_svg('out.svg')\n",
    "  # Scale the image for displaying\n",
    "  fig = sg.fromfile('out.svg')\n",
    "  fig.set_size((str(float(fig.width) * scale), str(float(fig.height) * scale)))\n",
    "  fig.save('out.svg')\n",
    "\n",
    "  # Display the image\n",
    "  IPython.display.display(IPython.display.SVG('out.svg'))\n",
    "\n",
    "def display_component(component, scale = 3):\n",
    "  # Save to a GDS file\n",
    "  with hide:\n",
    "    component.write_gds(\"out.gds\")\n",
    "  display_gds('out.gds', scale)"
   ]
  },
  {
   "cell_type": "markdown",
   "id": "0a1022b7-3d56-4bf3-94cb-4f394d534436",
   "metadata": {},
   "source": [
    "## List of Built-in Cells\n",
    "\n",
    "### 1. Primitives\n",
    "#### MOSFET (nmos/pmos)\n",
    "\n",
    "**Parameters:**\n",
    "- **pdk:** Which PDK to use\n",
    "- **width:** Width of one finger (um)\n",
    "- **length:** Length of one finger (um). The default value is the minimum channel length available\n",
    "- **fingers:** Number of fingers per transistor\n",
    "- **multipliers:** Number of transistors in this cell\n",
    "- **with_tie:** bool\n",
    "- **with_dummy:** tuple of 2 bools\n",
    "- **with_dnwell:** bool\n",
    "- **with_substrate_tap:** bool\n",
    "- **sd_route_topmet:** Expose the S/D connection on which metal layer\n",
    "- **gate_route_topmet:** Expose the Gate connection on which metal layer\n",
    "- **sd_route_left:** Choose which direction the S/D connection goes to\n",
    "- **rmult:** Integer multipler of routing width\n",
    "- **sd_rmult:** Same as above\n",
    "- **gate_rmult:** Same as above\n",
    "- **interfinger_rmult:** Same as above\n",
    "- **tie_layers:** Run the body tie metal on which layer. This entry is a tuple with 2 elements\n",
    "    - X metal\n",
    "    - Y metal\n",
    "- **substrate_tap_layers:** Run the substrate tie metal on which layer. This entry is a tuple with 2 elements\n",
    "    - X metal\n",
    "    - Y metal\n",
    "- **dummy_routes:** Enable routing to the dummy transistors\n",
    "\n",
    "Note that most of the parameters have a default value. The user usually doesn't need to populate all of them."
   ]
  },
  {
   "cell_type": "code",
   "execution_count": 6,
   "id": "d46a594d",
   "metadata": {},
   "outputs": [
    {
     "data": {
      "application/vnd.jupyter.widget-view+json": {
       "model_id": "b94d1b1715164eb1b5c279dc4d6c0876",
       "version_major": 2,
       "version_minor": 0
      },
      "text/plain": [
       "GridspecLayout(children=(Output(layout=Layout(grid_area='widget001')), Output(layout=Layout(grid_area='widget0…"
      ]
     },
     "metadata": {},
     "output_type": "display_data"
    }
   ],
   "source": [
    "from glayout.primitives.fet import nmos\n",
    "# Used to display the results in a grid (notebook only)\n",
    "left = widgets.Output()\n",
    "leftSPICE = widgets.Output()\n",
    "grid = widgets.GridspecLayout(1, 2)\n",
    "grid[0, 0] = left\n",
    "grid[0, 1] = leftSPICE\n",
    "display(grid)\n",
    "\n",
    "comp = nmos(pdk = gf180, fingers=5,with_dnwell=False)\n",
    "# Display the components' GDS and SPICE netlists\n",
    "with left:\n",
    "    print('GlobalFoundaries 180nm N-MOSFET (fingers = 5)')\n",
    "    display_component(comp, scale=2.5)\n",
    "with leftSPICE:\n",
    "    print('GlobalFoundaries 180nm SPICE Netlist')\n",
    "    print(comp.info['netlist'].generate_netlist())"
   ]
  },
  {
   "cell_type": "markdown",
   "id": "57c60110-a836-4a61-9ea2-603a72826bcb",
   "metadata": {},
   "source": [
    "#### MIM Capacitor\n",
    "**Parameters:**\n",
    "- **pdk:** Which PDK to use\n",
    "- **Size:** A tuple of 2 values\n",
    "    - X Size: um\n",
    "    - Y Size: um"
   ]
  },
  {
   "cell_type": "code",
   "execution_count": 3,
   "id": "6cf417ea",
   "metadata": {},
   "outputs": [
    {
     "data": {
      "application/vnd.jupyter.widget-view+json": {
       "model_id": "742f02a6cfbc4a08a068b649d1311a5c",
       "version_major": 2,
       "version_minor": 0
      },
      "text/plain": [
       "GridspecLayout(children=(Output(layout=Layout(grid_area='widget001')), Output(layout=Layout(grid_area='widget0…"
      ]
     },
     "metadata": {},
     "output_type": "display_data"
    }
   ],
   "source": [
    "from glayout.primitives.mimcap import mimcap\n",
    "# Used to display the results in a grid (notebook only)\n",
    "left = widgets.Output()\n",
    "leftSPICE = widgets.Output()\n",
    "grid = widgets.GridspecLayout(1, 2)\n",
    "grid[0, 0] = left\n",
    "grid[0, 1] = leftSPICE\n",
    "display(grid)\n",
    "\n",
    "comp = mimcap(pdk=gf180, size=[20.0,5.0])\n",
    "# Display the components' GDS and SPICE netlists\n",
    "with left:\n",
    "    print('GlobalFoundaries 180nm MIM Capacitor (10.0 x 5.0)')\n",
    "    display_component(comp, scale=2.5)\n",
    "with leftSPICE:\n",
    "    print('GlobalFoundaries 180nm SPICE Netlist')\n",
    "    print(comp.info['netlist'].generate_netlist())"
   ]
  },
  {
   "cell_type": "markdown",
   "id": "9351ac6f-e03b-4c60-903b-0035bf883977",
   "metadata": {},
   "source": [
    "#### Guard Ring\n",
    "\n",
    "**Parameters:**\n",
    "- **pdk:** Which PDK to use\n",
    "- **enclosed_rectangle:** A tuple of 2 values\n",
    "    - X Size (um)\n",
    "    - Y Size (um)\n",
    "- **sdlayer:** Which diffusion layer?\n",
    "- **horizontal_glayer:** Which metal layer to use for the X routing\n",
    "- **vertical_glayer:** Which metal layer to use for the Y routing\n",
    "- **sides：** A tuple of 4 bools"
   ]
  },
  {
   "cell_type": "code",
   "execution_count": 7,
   "id": "84b3b4c0",
   "metadata": {},
   "outputs": [
    {
     "data": {
      "application/vnd.jupyter.widget-view+json": {
       "model_id": "55c873ee5f74449a84a3d75e08ebad37",
       "version_major": 2,
       "version_minor": 0
      },
      "text/plain": [
       "GridspecLayout(children=(Output(layout=Layout(grid_area='widget001')), Output(layout=Layout(grid_area='widget0…"
      ]
     },
     "metadata": {},
     "output_type": "display_data"
    }
   ],
   "source": [
    "from glayout.primitives.guardring import tapring\n",
    "# Used to display the results in a grid (notebook only)\n",
    "left = widgets.Output()\n",
    "leftSPICE = widgets.Output()\n",
    "grid = widgets.GridspecLayout(1, 2)\n",
    "grid[0, 0] = left\n",
    "grid[0, 1] = leftSPICE\n",
    "display(grid)\n",
    "\n",
    "comp = tapring(pdk=gf180, enclosed_rectangle=[10.0, 5.0])\n",
    "# Display the components' GDS and SPICE netlists\n",
    "with left:\n",
    "    print('GlobalFoundaries 180nm MIM Capacitor (10.0 x 5.0)')\n",
    "    display_component(comp, scale=2.5)"
   ]
  },
  {
   "cell_type": "markdown",
   "id": "77dc614b-ed24-4a09-977a-fa024f428a5d",
   "metadata": {},
   "source": [
    "This cell does not have LVS netlist\n",
    "\n",
    "## WIP\n",
    "\n",
    "### Intermediate PClls\n",
    "\n",
    "#### Diff Pair\n",
    "create a diffpair with 2 transistors placed in two rows with common centroid place. Sources are shorted\n",
    "\n",
    "**Parameters:**\n",
    "- **pdk:** Which PDK to use\n",
    "- **width:** Width of the transistors (um)\n",
    "- **length:** Length of the transistors, None or 0 means use min length (um)\n",
    "- **fingers:** Number of fingers in the transistors (must be 2 or more)\n",
    "- **short_source:** If true connects source of both transistors. Otherwise they will be exposed as routing terminals.\n",
    "- **n_or_p_fet:** If true the diffpair is made of nfets else it is made of pfets\n",
    "- **substrate_tap:** if true place a tapring around the diffpair (connects on met1)"
   ]
  },
  {
   "cell_type": "code",
   "execution_count": 5,
   "id": "64828536",
   "metadata": {},
   "outputs": [
    {
     "ename": "ModuleNotFoundError",
     "evalue": "No module named 'glayout.elementary'",
     "output_type": "error",
     "traceback": [
      "\u001b[0;31m---------------------------------------------------------------------------\u001b[0m",
      "\u001b[0;31mModuleNotFoundError\u001b[0m                       Traceback (most recent call last)",
      "Cell \u001b[0;32mIn[5], line 2\u001b[0m\n\u001b[1;32m      1\u001b[0m \u001b[38;5;66;03m# WIP glayout.elementary not found ()\u001b[39;00m\n\u001b[0;32m----> 2\u001b[0m \u001b[38;5;28;01mfrom\u001b[39;00m\u001b[38;5;250m \u001b[39m\u001b[38;5;21;01mglayout\u001b[39;00m\u001b[38;5;21;01m.\u001b[39;00m\u001b[38;5;21;01melementary\u001b[39;00m\u001b[38;5;21;01m.\u001b[39;00m\u001b[38;5;21;01mdiff_pair\u001b[39;00m\u001b[38;5;250m \u001b[39m\u001b[38;5;28;01mimport\u001b[39;00m diff_pair\n\u001b[1;32m      3\u001b[0m \u001b[38;5;66;03m# Used to display the results in a grid (notebook only)\u001b[39;00m\n\u001b[1;32m      4\u001b[0m left \u001b[38;5;241m=\u001b[39m widgets\u001b[38;5;241m.\u001b[39mOutput()\n",
      "\u001b[0;31mModuleNotFoundError\u001b[0m: No module named 'glayout.elementary'"
     ]
    }
   ],
   "source": [
    "# WIP glayout.elementary not found ()\n",
    "from glayout.elementary.diff_pair import diff_pair\n",
    "# Used to display the results in a grid (notebook only)\n",
    "left = widgets.Output()\n",
    "leftSPICE = widgets.Output()\n",
    "grid = widgets.GridspecLayout(1, 2)\n",
    "grid[0, 0] = left\n",
    "grid[0, 1] = leftSPICE\n",
    "display(grid)\n",
    "\n",
    "comp = diff_pair(pdk=gf180)\n",
    "# Display the components' GDS and SPICE netlists\n",
    "with left:\n",
    "    print('Skywater 130nm Differential Pair')\n",
    "    display_component(comp, scale=2.5)\n",
    "with leftSPICE:\n",
    "    print('Skywater 130nm SPICE Netlist')\n",
    "    print(comp.info['netlist'].generate_netlist())"
   ]
  },
  {
   "cell_type": "markdown",
   "id": "a6638ea4-3709-4217-81c7-4c4afb938230",
   "metadata": {},
   "source": [
    "#### Cascode load of the OPAMP\n",
    "(aka. Differential to Single Ended Converter)\n",
    "\n",
    "**Parameters:**\n",
    "- **pdk:** Which PDK to use\n",
    "- **rmult:** Routing Width Multiplier\n",
    "- **half_pload:** a 3-element tuple describing the PMOS inside\n",
    "    - Transistor Width (um)\n",
    "    - Transistor Length (um)\n",
    "    - Transistor Multiplier\n",
    "- **via_xlocation:** X position delta of the two staggered vias (um)"
   ]
  },
  {
   "cell_type": "code",
   "execution_count": null,
   "id": "1287a12c",
   "metadata": {},
   "outputs": [],
   "source": [
    "# WIP No module named 'glayout.composite'\n",
    "from glayout.composite.differential_to_single_ended_converter import differential_to_single_ended_converter\n",
    "# Used to display the results in a grid (notebook only)\n",
    "left = widgets.Output()\n",
    "leftSPICE = widgets.Output()\n",
    "grid = widgets.GridspecLayout(1, 2)\n",
    "grid[0, 0] = left\n",
    "grid[0, 1] = leftSPICE\n",
    "display(grid)\n",
    "\n",
    "comp = differential_to_single_ended_converter(pdk=gf180, rmult=1, half_pload=[2,0.5,1], via_xlocation=0)\n",
    "# Display the components' GDS and SPICE netlists\n",
    "with left:\n",
    "    print('Skywater 130nm Cascode Active Load')\n",
    "    display_component(comp, scale=2.5)\n",
    "with leftSPICE:\n",
    "    print('Skywater 130nm SPICE Netlist')\n",
    "    print(comp.info['netlist'].generate_netlist())"
   ]
  },
  {
   "cell_type": "markdown",
   "id": "fe1aebe5-04ce-4709-aabf-20bccb28aace",
   "metadata": {},
   "source": [
    "# Complex Circuit Example: Op-Amp\n",
    "Using the above generators, complex circuit designs can be created by connecting the components. The function for creating such a design would itself be a generator. For example, differential pair generator uses the FET, Via, and routing generators.\n",
    "\n",
    "### Design\n",
    "One such example circuit is the [Operational Amplifier](https://en.wikipedia.org/wiki/Operational_amplifier) (Op-Amp) defined in the `opamp.py` file. This design consists of a differential pair (input stage), a differential to single-ended converter (load), a common source (CS) gain stage, and an output buffer (for testing, it's not a part of the feedback loop), with an improved split-stage feedback  created using a capacitor. The differential pair and the gain and output stages are biased using current mirrors.\n",
    "\n",
    "Each of the stages, the feedback capacitor, and the biasing circuitry were generated using the exported generators. See the schematic in Fig. 4 for an overview of the circuit. The PCells used (Differential Pair, Current Mirror, etc.) are highlighted with the dotted border.\n",
    "\n",
    "In Fig. 5(a), a Skywater 130nm layout for the Op-Amp is shown with the different components annotated. The annotated components are marked in the circuit schematic in Fig. 5(b) for the first two stages of the Op-Amp.\n",
    "\n",
    "![schematic](https://i.imgur.com/PUEPdXE.png)\n",
    "\n",
    "(Fig. 4: Example Op-Amp Circuit Schematic)\n",
    "\n",
    "![schemlayout](https://i.imgur.com/W2askiz.png)\n",
    "\n",
    "(Fig. 5: (a) gf180 Op-Amp Layout and (b) the Corresponding Circuit Schematic for the First Two Stages of the Op-Amp)\n",
    "\n",
    "### Parameters\n",
    "The Op-Amp generator accepts the following optional parameters:\n",
    "- `half_diffpair_params`: A tuple of (width, length, fingers) for the differential pair.\n",
    "- `diffpair_bias`: A tuple of (width, length, fingers) for the differential pair bias transistors.\n",
    "- `half_common_source_params`: A tuple of (width, length, fingers, multipliers) for the common source PMOS transistor.\n",
    "- `half_common_source_bias`: A tuple of (width, length, fingers, multipliers) for the common source bias transistors. The `multipliers` only apply to the mirror transistor, reference transistor has a multiplier of 1.\n",
    "- `output_stage_params`: A tuple of (width, length, fingers) for the output stage NMOS transistor.\n",
    "- `output_stage_bias`: A tuple of (width, length, fingers) for the output stage bias transistors.\n",
    "- `half_pload`: A tuple of (width, length, fingers) for the load (differential to single-ended converter). The `fingers` only apply to the bottom two transistors.\n",
    "- `mim_cap_size`: A tuple of (width, length) for individual MIM capacitors.\n",
    "- `mim_cap_rows`: The number of rows in the MIM capacitor array.\n",
    "- `rmult`: The multiplier for the width of the routes.\n",
    "\n",
    "These parameters can be changed to generate a very wide range of Op-Amp designs.\n"
   ]
  },
  {
   "cell_type": "markdown",
   "id": "ce953da4-0ec3-4939-9da2-a6263130416d",
   "metadata": {},
   "source": [
    "### 1. Generating the Op-Amp\n",
    "The cell below generates the Op-Amp with a particular set of parameters and a PDK (gf180 by default). Change any of the parameters or the PDK set at the beginning of the cell to generate different variations of the Op-Amp."
   ]
  },
  {
   "cell_type": "code",
   "execution_count": null,
   "id": "916d33cc",
   "metadata": {
    "lines_to_next_cell": 2
   },
   "outputs": [],
   "source": [
    "# WIP No module named 'glayout.composite'\n",
    "from glayout.composite.opamp import opamp\n",
    "\n",
    "# Select which PDK to use\n",
    "pdk = gf180\n",
    "# pdk = gf180\n",
    "\n",
    "# Op-Amp Parameters\n",
    "half_diffpair_params = (6, 1, 4)\n",
    "diffpair_bias = (6, 2, 4)\n",
    "half_common_source_params = (7, 1, 10, 3)\n",
    "half_common_source_bias  = (6, 2, 8, 2)\n",
    "output_stage_params = (5, 1, 16)\n",
    "output_stage_bias = (6, 2, 4)\n",
    "half_pload = (6,1,6)\n",
    "mim_cap_size = (12, 12)\n",
    "mim_cap_rows = 3\n",
    "rmult = 2\n",
    "\n",
    "hide = widgets.Output()\n",
    "\n",
    "# Generate the Op-Amp\n",
    "print('Generating Op-Amp...')\n",
    "with hide:\n",
    "  component = opamp(pdk, half_diffpair_params, diffpair_bias, half_common_source_params, half_common_source_bias, output_stage_params, output_stage_bias, half_pload,  mim_cap_size, mim_cap_rows, rmult)\n",
    "\n",
    "# Display the Op-Amp\n",
    "clear_output()\n",
    "display_component(component, 0.5)"
   ]
  }
 ],
 "metadata": {
  "jupytext": {
   "cell_metadata_filter": "-all",
   "encoding": "# coding: utf-8",
   "executable": "/usr/bin/env python",
   "main_language": "python",
   "notebook_metadata_filter": "-all"
  },
  "kernelspec": {
   "display_name": "Python 3 (ipykernel)",
   "language": "python",
   "name": "python3"
  },
  "language_info": {
   "codemirror_mode": {
    "name": "ipython",
    "version": 3
   },
   "file_extension": ".py",
   "mimetype": "text/x-python",
   "name": "python",
   "nbconvert_exporter": "python",
   "pygments_lexer": "ipython3",
   "version": "3.10.18"
  }
 },
 "nbformat": 4,
 "nbformat_minor": 5
}
