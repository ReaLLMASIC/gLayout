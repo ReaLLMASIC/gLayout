{
 "cells": [
  {
   "cell_type": "markdown",
   "metadata": {
    "id": "o5-DyyuLZW0q"
   },
   "source": [
    "# Tutorial 2: **Notebook** - *FVF*\n",
    "\n",
    "> 🚧 **Under Construction**\n",
    "\n",
    "**By \n",
    "gLayout Team**\n",
    "\n",
    "__Content creators:__ Subham Pal, Saptarshi Ghosh\n",
    "\n",
    "__Content reviewers:__ Mehedi Saligne"
   ]
  },
  {
   "cell_type": "markdown",
   "metadata": {
    "id": "gPX1Jg60CobD"
   },
   "source": [
    "___\n",
    "# Tutorial Objectives\n",
    "\n",
    "This notebook is a tutorial on-\n",
    "\n",
    "- **LVS (Layout Versus Schematic):**  \n",
    "  You will learn how to compare your physical layout with the original schematic to ensure they are functionally identical. This process helps catch connectivity or device mismatches before fabrication.\n",
    "\n",
    "- **Extraction and Simulation:**  \n",
    "  The tutorial will guide you through extracting parasitic elements from your layout, such as capacitance and resistance, to create a more accurate circuit model. You will then simulate the extracted netlist to analyze and verify the real-world performance of your design."
   ]
  },
  {
   "cell_type": "markdown",
   "metadata": {
    "id": "MTe7mB0vawUk"
   },
   "source": [
    "## **Target** **Block** : **Inverter Cell**\n",
    "\n",
    "The CMOS inverter is a fundamental digital circuit building block, widely used due to its low static power consumption, high noise immunity, and fast switching characteristics. It consists of a complementary pair of MOSFETs: one PMOS and one NMOS transistor, with their gates and drains connected together. The source of the PMOS is connected to the supply voltage (VDD), while the source of the NMOS is connected to ground (VSS).\n",
    "\n",
    "### **Operation Principle**\n",
    "- **Input Low (Logic 0):** The PMOS transistor turns ON and the NMOS turns OFF. This connects the output (VOUT) to VDD, producing a logic high (1) at the output.\n",
    "- **Input High (Logic 1):** The NMOS transistor turns ON and the PMOS turns OFF. This connects the output to ground, producing a logic low (0) at the output.\n",
    "\n",
    "This complementary switching action ensures that the output is always the logical inverse of the input, making the CMOS inverter a true logic inverter.\n",
    "\n",
    "![](_images/CMOS_Inverter.png)\n",
    "\n",
    "```bibtex\n",
    "Wikimedia Commons contributors. (2010). CMOS Inverter Schematic [Diagram]. Wikimedia Commons. https://commons.wikimedia.org/wiki/File:CMOS_Inverter.svg\n",
    "```\n"
   ]
  },
  {
   "cell_type": "markdown",
   "metadata": {
    "id": "8DhSwHbRged9"
   },
   "source": [
    "## **NetList generation and LVS**\n",
    "let's go through the step by step procedure to generate LVS and DRC clean layout of a FVF cell."
   ]
  },
  {
   "cell_type": "code",
   "execution_count": 1,
   "metadata": {},
   "outputs": [],
   "source": [
    "import os\n",
    "import subprocess\n",
    "\n",
    "# Run a shell, source .bashrc, then printenv\n",
    "cmd = 'bash -c \"source ~/.bashrc && printenv\"'\n",
    "result = subprocess.run(cmd, shell=True, text=True, capture_output=True)\n",
    "env_vars = {}\n",
    "for line in result.stdout.splitlines():\n",
    "    if '=' in line:\n",
    "        key, value = line.split('=', 1)\n",
    "        env_vars[key] = value\n",
    "\n",
    "# Now, update os.environ with these\n",
    "os.environ.update(env_vars)"
   ]
  },
  {
   "cell_type": "code",
   "execution_count": 2,
   "metadata": {},
   "outputs": [],
   "source": [
    "from glayout import MappedPDK, sky130 , gf180\n",
    "#from gdsfactory.cell import cell\n",
    "# from gdsfactory import Component\n",
    "# from gdsfactory.components import text_freetype, rectangle\n",
    "\n",
    "import gdsfactory as gf\n",
    "gf.clear_cache()"
   ]
  },
  {
   "cell_type": "code",
   "execution_count": 3,
   "metadata": {},
   "outputs": [],
   "source": [
    "from glayout import nmos, pmos\n",
    "from glayout import via_stack\n",
    "from glayout import rename_ports_by_orientation\n",
    "from glayout import tapring"
   ]
  },
  {
   "cell_type": "code",
   "execution_count": 4,
   "metadata": {},
   "outputs": [],
   "source": [
    "from glayout.util.comp_utils import evaluate_bbox, prec_center, prec_ref_center, align_comp_to_port\n",
    "from glayout.util.port_utils import add_ports_perimeter,print_ports\n",
    "from glayout.util.snap_to_grid import component_snap_to_grid\n",
    "from glayout.spice.netlist import Netlist"
   ]
  },
  {
   "cell_type": "code",
   "execution_count": 5,
   "metadata": {},
   "outputs": [],
   "source": [
    "from glayout.routing.straight_route import straight_route\n",
    "from glayout.routing.c_route import c_route\n",
    "from glayout.routing.L_route import L_route"
   ]
  },
  {
   "cell_type": "markdown",
   "metadata": {
    "id": "48098fczyWqC"
   },
   "source": [
    "FVF has two fets as shown in the schematic. We call M1 as input fet and M2 as feedback fet. Lets define arguments for the FETs"
   ]
  },
  {
   "cell_type": "markdown",
   "metadata": {},
   "source": [
    "### 2. Basic Usage of the GLayout Framework\n",
    "Each generator is a Python function that takes a `MappedPDK` object as a parameter and generates a DRC clean layout for the given PDK. The generator may also accept a set of optional layout parameters such as the width or length of a MOSFET. All parameters are normal Python function arguments.\n",
    "\n",
    "The generator returns a `GDSFactory.Component` object that can be written to a `.gds` file and viewed using a tool such as Klayout. In this example, the `gdstk` library is used to convert the `.gds` file to an SVG image for viewing.\n",
    "\n",
    "The pre-PEX SPICE netlist for the component can be viewed using `component.info['netlist'].generate_netlist()`.\n",
    "\n",
    "In the following example the FET generator `glayout.primitives.fet` is imported and run with both the [Skywater 130](https://skywater-pdk.readthedocs.io/en/main/) and [GF180](https://gf180mcu-pdk.readthedocs.io/en/latest/) PDKs."
   ]
  },
  {
   "cell_type": "markdown",
   "metadata": {},
   "source": [
    "#### Demonstration of Basic Layout / Netlist Generation in SKY130 & GF180"
   ]
  },
  {
   "cell_type": "code",
   "execution_count": 6,
   "metadata": {},
   "outputs": [],
   "source": [
    "# from glayout import nmos,sky130,gf180\n",
    "\n",
    "# import gdstk\n",
    "# import svgutils.transform as sg\n",
    "# import IPython.display\n",
    "# from IPython.display import clear_output\n",
    "# import ipywidgets as widgets\n",
    "\n",
    "# # Used to display the results in a grid (notebook only)\n",
    "# left = widgets.Output()\n",
    "# leftSPICE = widgets.Output()\n",
    "# right = widgets.Output()\n",
    "# rightSPICE = widgets.Output()\n",
    "# hide = widgets.Output()\n",
    "\n",
    "# grid = widgets.GridspecLayout(1, 4)\n",
    "# grid[0, 0] = left\n",
    "# grid[0, 1] = leftSPICE\n",
    "# grid[0, 2] = right\n",
    "# grid[0, 3] = rightSPICE\n",
    "# display(grid)\n",
    "\n",
    "# def display_gds(gds_file, scale = 3):\n",
    "#   # Generate an SVG image\n",
    "#   top_level_cell = gdstk.read_gds(gds_file).top_level()[0]\n",
    "#   top_level_cell.write_svg('../../out.svg')\n",
    "\n",
    "#   # Scale the image for displaying\n",
    "#   fig = sg.fromfile('../../out.svg')\n",
    "#   fig.set_size((str(float(fig.width) * scale), str(float(fig.height) * scale)))\n",
    "#   fig.save('../../out.svg')\n",
    "\n",
    "#   # Display the image\n",
    "#   IPython.display.display(IPython.display.SVG('../../out.svg'))\n",
    "\n",
    "# def display_component(component, scale = 3):\n",
    "#   # Save to a GDS file\n",
    "#   with hide:\n",
    "#     component.write_gds(\"../../out.gds\")\n",
    "\n",
    "#   display_gds('../../out.gds', scale)\n",
    "\n",
    "# with hide:\n",
    "#   # Generate the sky130 component\n",
    "#   component_sky130 = nmos(pdk = sky130, fingers=5)\n",
    "#   # Generate the gf180 component\n",
    "#   component_gf180 = nmos(pdk = gf180, fingers=5)\n",
    "\n",
    "# # Display the components' GDS and SPICE netlists\n",
    "# with left:\n",
    "#   print('Skywater 130nm N-MOSFET (fingers = 5)')\n",
    "#   display_component(component_sky130, scale=2)\n",
    "# with leftSPICE:\n",
    "#   print('Skywater 130nm SPICE Netlist')\n",
    "#   print(component_sky130.info['netlist'].generate_netlist())\n",
    "\n",
    "# with right:\n",
    "#   print('GF 180nm N-MOSFET (fingers = 5)')\n",
    "#   display_component(component_gf180, scale=2)\n",
    "# with rightSPICE:\n",
    "#   print('GF 180nm SPICE Netlist')\n",
    "#   print(component_gf180.info['netlist'].generate_netlist())"
   ]
  },
  {
   "cell_type": "code",
   "execution_count": 7,
   "metadata": {},
   "outputs": [],
   "source": [
    "import sys\n",
    "import os\n",
    "sys.path.append(os.path.abspath(\"../../INV\"))\n",
    "\n",
    "from my_INV import inverter,add_inv_labels"
   ]
  },
  {
   "cell_type": "code",
   "execution_count": 8,
   "metadata": {},
   "outputs": [
    {
     "name": "stderr",
     "output_type": "stream",
     "text": [
      "\u001b[32m2025-06-26 11:10:01.435\u001b[0m | \u001b[1mINFO    \u001b[0m | \u001b[36mgdsfactory.pdk\u001b[0m:\u001b[36mactivate\u001b[0m:\u001b[36m337\u001b[0m - \u001b[1m'gf180' PDK is now active\u001b[0m\n"
     ]
    }
   ],
   "source": [
    "comp = inverter(gf180)\n",
    "for s in comp.references:\n",
    "    print(s.name)  # This will show 'fet_P', 'fet_N', etc."
   ]
  },
  {
   "cell_type": "code",
   "execution_count": null,
   "metadata": {},
   "outputs": [],
   "source": []
  },
  {
   "cell_type": "code",
   "execution_count": 9,
   "metadata": {},
   "outputs": [
    {
     "name": "stderr",
     "output_type": "stream",
     "text": [
      "\u001b[32m2025-06-26 11:07:42.842\u001b[0m | \u001b[1mINFO    \u001b[0m | \u001b[36mgdsfactory.klive\u001b[0m:\u001b[36mshow\u001b[0m:\u001b[36m55\u001b[0m - \u001b[1mMessage from klive: {\"version\": \"0.3.3\", \"klayout_version\": \"0.30.2\", \"type\": \"reload\", \"file\": \"/tmp/gdsfactory/INV.gds\"}\u001b[0m\n",
      "\u001b[32m2025-06-26 11:07:42.845\u001b[0m | \u001b[1mINFO    \u001b[0m | \u001b[36mgdsfactory.component\u001b[0m:\u001b[36m_write_library\u001b[0m:\u001b[36m1851\u001b[0m - \u001b[1mWrote to '/tmp/tmpwmbkqows/INV.gds'\u001b[0m\n"
     ]
    },
    {
     "name": "stdout",
     "output_type": "stream",
     "text": [
      "using default pdk_root: /usr/bin/miniconda3/share/pdk/\n",
      "Defaulting to stale magic_commands.tcl\n",
      "\n",
      "Magic 8.3 revision 528 - Compiled on Wed Jun 18 09:45:25 PM CEST 2025.\n",
      "Starting magic under Tcl interpreter\n",
      "Using the terminal as the console.\n",
      "WARNING: RLIMIT_NOFILE is above 1024 and Tcl_Version<9 this may cause runtime issues [rlim_cur=1048576]\n",
      "Using NULL graphics device.\n",
      "Processing system .magicrc file\n",
      "Sourcing design .magicrc for technology gf180mcuD ...\n",
      "10 Magic internal units = 1 Lambda\n",
      "Input style import: scaleFactor=10, multiplier=2\n",
      "The following types are not handled by extraction and will be treated as non-electrical types:\n",
      "    obsactive mvobsactive filldiff fillpoly m1hole obsm1 fillm1 obsv1 m2hole obsm2 fillm2 obsv2 m3hole obsm3 fillm3 m4hole obsm4 fillm4 m5hole obsm5 fillm5 glass fillblock lvstext obscomment \n",
      "Scaled tech values by 10 / 1 to match internal grid scaling\n",
      "Loading gf180mcuD Device Generator Menu ...\n",
      "Loading \"/tmp/tmpwmbkqows/magic_commands.tcl\" from command line.\n",
      "Warning: Calma reading is not undoable!  I hope that's OK.\n",
      "Library written using GDS-II Release 6.0\n",
      "Library name: library\n",
      "Reading \"INV\".\n",
      "[INFO]: Loading INV\n",
      "\n",
      "Loading DRC CIF style.\n",
      "[INFO]: DONE with /tmp/tmpwmbkqows/INV.rpt\n",
      "\n",
      "Using technology \"gf180mcuD\", version 1.0.525-0-gf2e289d\n",
      "\n",
      "INV count: \n",
      "\n",
      "----------------------------------------\n",
      "\n",
      "Metal2 spacing < 0.28um (M2.2a)\n",
      "\n",
      "----------------------------------------\n",
      "\n",
      " -0.820um 1.495um -0.320um 1.525um\n",
      "\n",
      " -0.320um 1.495um -0.040um 1.525um\n",
      "\n",
      " 0.040um 1.495um 0.820um 1.525um\n",
      "\n",
      " 10.120um 1.495um 10.620um 1.525um\n",
      "\n",
      " 10.980um 1.495um 11.760um 1.525um\n",
      "\n",
      " 0.820um 1.495um 1.100um 1.525um\n",
      "\n",
      " 10.620um 1.495um 10.900um 1.525um\n",
      "\n",
      "----------------------------------------\n",
      "\n",
      "\n",
      "\n"
     ]
    }
   ],
   "source": [
    "comp = add_inv_labels(comp, gf180)\n",
    "comp.name = \"INV\"\n",
    "#comp.write_gds('out_INV.gds')\n",
    "comp.show()\n",
    "#print(\"...Running DRC...\")\n",
    "drc_result = gf180.drc_magic(comp, \"INV\")"
   ]
  },
  {
   "cell_type": "code",
   "execution_count": 10,
   "metadata": {},
   "outputs": [
    {
     "ename": "NameError",
     "evalue": "name 'Component' is not defined",
     "output_type": "error",
     "traceback": [
      "\u001b[0;31m---------------------------------------------------------------------------\u001b[0m",
      "\u001b[0;31mNameError\u001b[0m                                 Traceback (most recent call last)",
      "Cell \u001b[0;32mIn[10], line 1\u001b[0m\n\u001b[0;32m----> 1\u001b[0m \u001b[38;5;28;01mdef\u001b[39;00m\u001b[38;5;250m \u001b[39m\u001b[38;5;21minv_netlist\u001b[39m(fet_1: \u001b[43mComponent\u001b[49m, fet_2: Component) \u001b[38;5;241m-\u001b[39m\u001b[38;5;241m>\u001b[39m Netlist:\n\u001b[1;32m      3\u001b[0m     netlist \u001b[38;5;241m=\u001b[39m Netlist(circuit_name\u001b[38;5;241m=\u001b[39m\u001b[38;5;124m'\u001b[39m\u001b[38;5;124mINVERTER\u001b[39m\u001b[38;5;124m'\u001b[39m, nodes\u001b[38;5;241m=\u001b[39m[\u001b[38;5;124m'\u001b[39m\u001b[38;5;124mVIN\u001b[39m\u001b[38;5;124m'\u001b[39m, \u001b[38;5;124m'\u001b[39m\u001b[38;5;124mVBULK\u001b[39m\u001b[38;5;124m'\u001b[39m, \u001b[38;5;124m'\u001b[39m\u001b[38;5;124mVOUT\u001b[39m\u001b[38;5;124m'\u001b[39m, \u001b[38;5;124m'\u001b[39m\u001b[38;5;124mVDD\u001b[39m\u001b[38;5;124m'\u001b[39m])\n\u001b[1;32m      5\u001b[0m     netlist\u001b[38;5;241m.\u001b[39mconnect_netlist(fet_1\u001b[38;5;241m.\u001b[39minfo[\u001b[38;5;124m'\u001b[39m\u001b[38;5;124mnetlist\u001b[39m\u001b[38;5;124m'\u001b[39m], [(\u001b[38;5;124m'\u001b[39m\u001b[38;5;124mD\u001b[39m\u001b[38;5;124m'\u001b[39m, \u001b[38;5;124m'\u001b[39m\u001b[38;5;124mVOUT\u001b[39m\u001b[38;5;124m'\u001b[39m), (\u001b[38;5;124m'\u001b[39m\u001b[38;5;124mG\u001b[39m\u001b[38;5;124m'\u001b[39m, \u001b[38;5;124m'\u001b[39m\u001b[38;5;124mVIN\u001b[39m\u001b[38;5;124m'\u001b[39m), (\u001b[38;5;124m'\u001b[39m\u001b[38;5;124mS\u001b[39m\u001b[38;5;124m'\u001b[39m, \u001b[38;5;124m'\u001b[39m\u001b[38;5;124mVDD\u001b[39m\u001b[38;5;124m'\u001b[39m), (\u001b[38;5;124m'\u001b[39m\u001b[38;5;124mB\u001b[39m\u001b[38;5;124m'\u001b[39m, \u001b[38;5;124m'\u001b[39m\u001b[38;5;124mVBULK\u001b[39m\u001b[38;5;124m'\u001b[39m)])\n",
      "\u001b[0;31mNameError\u001b[0m: name 'Component' is not defined"
     ]
    }
   ],
   "source": [
    "def inv_netlist(fet_1: Component, fet_2: Component) -> Netlist:\n",
    "\n",
    "    netlist = Netlist(circuit_name='INVERTER', nodes=['VIN', 'VBULK', 'VOUT', 'VDD'])\n",
    "    \n",
    "    netlist.connect_netlist(fet_1.info['netlist'], [('D', 'VOUT'), ('G', 'VIN'), ('S', 'VDD'), ('B', 'VBULK')])\n",
    "    netlist.connect_netlist(fet_2.info['netlist'], [('D', 'VOUT'), ('G', 'VIN'), ('S', 'VBULK'), ('B', 'VBULK')])\n",
    "    \n",
    "    return netlist\n",
    "\n",
    "\n",
    "\n",
    "comp.info['netlist'] = fvf_netlist(fet_1, fet_2)"
   ]
  },
  {
   "cell_type": "code",
   "execution_count": null,
   "metadata": {},
   "outputs": [],
   "source": [
    "comp\n"
   ]
  },
  {
   "cell_type": "markdown",
   "metadata": {
    "id": "Bbxs3HPMCob0"
   },
   "source": [
    "### Run LVS\n",
    "Design Rule Check ensures that the physical layout of an integrated circuit adheres to the manufacturing constraints defined by the foundry, such as minimum spacing, width, and enclosure rules. `Magic` is the tool we use for DRC here."
   ]
  },
  {
   "cell_type": "code",
   "execution_count": null,
   "metadata": {},
   "outputs": [],
   "source": []
  },
  {
   "cell_type": "markdown",
   "metadata": {},
   "source": [
    "## Extraction and Post-Pex Simulation"
   ]
  },
  {
   "cell_type": "code",
   "execution_count": null,
   "metadata": {},
   "outputs": [],
   "source": []
  }
 ],
 "metadata": {
  "colab": {
   "provenance": []
  },
  "kernelspec": {
   "display_name": "GLdev",
   "language": "python",
   "name": "gldev"
  },
  "language_info": {
   "codemirror_mode": {
    "name": "ipython",
    "version": 3
   },
   "file_extension": ".py",
   "mimetype": "text/x-python",
   "name": "python",
   "nbconvert_exporter": "python",
   "pygments_lexer": "ipython3",
   "version": "3.10.18"
  }
 },
 "nbformat": 4,
 "nbformat_minor": 0
}
